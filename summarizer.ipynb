{
  "cells": [
    {
      "cell_type": "markdown",
      "metadata": {
        "id": "4EFM8Mlm4viE"
      },
      "source": [
        "# Importing Libs"
      ]
    },
    {
      "cell_type": "code",
      "execution_count": 1,
      "metadata": {
        "execution": {
          "iopub.execute_input": "2024-10-18T04:26:29.704753Z",
          "iopub.status.busy": "2024-10-18T04:26:29.703444Z",
          "iopub.status.idle": "2024-10-18T04:26:30.207649Z",
          "shell.execute_reply": "2024-10-18T04:26:30.206311Z",
          "shell.execute_reply.started": "2024-10-18T04:26:29.704698Z"
        },
        "id": "1lLf5N6P4viF",
        "trusted": true
      },
      "outputs": [],
      "source": [
        "import pandas as pd\n",
        "import numpy as np\n"
      ]
    },
    {
      "cell_type": "markdown",
      "metadata": {
        "id": "7SY_3pKS4viF"
      },
      "source": [
        "# Importing Data"
      ]
    },
    {
      "cell_type": "code",
      "execution_count": 2,
      "metadata": {
        "colab": {
          "base_uri": "https://localhost:8080/",
          "height": 495
        },
        "execution": {
          "iopub.execute_input": "2024-10-18T04:26:30.210197Z",
          "iopub.status.busy": "2024-10-18T04:26:30.20967Z",
          "iopub.status.idle": "2024-10-18T04:27:03.924063Z",
          "shell.execute_reply": "2024-10-18T04:27:03.922937Z",
          "shell.execute_reply.started": "2024-10-18T04:26:30.210151Z"
        },
        "id": "28DZX6FS4viF",
        "outputId": "f5ea0098-1a61-4d84-cc55-9e749560c481",
        "trusted": true
      },
      "outputs": [],
      "source": [
        "train_df = pd.read_csv('train.csv')\n",
        "test_df = pd.read_csv('test.csv')"
      ]
    },
    {
      "cell_type": "code",
      "execution_count": 3,
      "metadata": {
        "execution": {
          "iopub.execute_input": "2024-10-18T04:27:03.925747Z",
          "iopub.status.busy": "2024-10-18T04:27:03.925346Z",
          "iopub.status.idle": "2024-10-18T04:27:03.960066Z",
          "shell.execute_reply": "2024-10-18T04:27:03.958894Z",
          "shell.execute_reply.started": "2024-10-18T04:27:03.925707Z"
        },
        "id": "GpFS-Y3F4viG",
        "trusted": true
      },
      "outputs": [
        {
          "data": {
            "text/html": [
              "<div>\n",
              "<style scoped>\n",
              "    .dataframe tbody tr th:only-of-type {\n",
              "        vertical-align: middle;\n",
              "    }\n",
              "\n",
              "    .dataframe tbody tr th {\n",
              "        vertical-align: top;\n",
              "    }\n",
              "\n",
              "    .dataframe thead th {\n",
              "        text-align: right;\n",
              "    }\n",
              "</style>\n",
              "<table border=\"1\" class=\"dataframe\">\n",
              "  <thead>\n",
              "    <tr style=\"text-align: right;\">\n",
              "      <th></th>\n",
              "      <th>id</th>\n",
              "      <th>article</th>\n",
              "      <th>highlights</th>\n",
              "    </tr>\n",
              "  </thead>\n",
              "  <tbody>\n",
              "    <tr>\n",
              "      <th>0</th>\n",
              "      <td>0001d1afc246a7964130f43ae940af6bc6c57f01</td>\n",
              "      <td>By . Associated Press . PUBLISHED: . 14:11 EST...</td>\n",
              "      <td>Bishop John Folda, of North Dakota, is taking ...</td>\n",
              "    </tr>\n",
              "    <tr>\n",
              "      <th>1</th>\n",
              "      <td>0002095e55fcbd3a2f366d9bf92a95433dc305ef</td>\n",
              "      <td>(CNN) -- Ralph Mata was an internal affairs li...</td>\n",
              "      <td>Criminal complaint: Cop used his role to help ...</td>\n",
              "    </tr>\n",
              "    <tr>\n",
              "      <th>2</th>\n",
              "      <td>00027e965c8264c35cc1bc55556db388da82b07f</td>\n",
              "      <td>A drunk driver who killed a young woman in a h...</td>\n",
              "      <td>Craig Eccleston-Todd, 27, had drunk at least t...</td>\n",
              "    </tr>\n",
              "    <tr>\n",
              "      <th>3</th>\n",
              "      <td>0002c17436637c4fe1837c935c04de47adb18e9a</td>\n",
              "      <td>(CNN) -- With a breezy sweep of his pen Presid...</td>\n",
              "      <td>Nina dos Santos says Europe must be ready to a...</td>\n",
              "    </tr>\n",
              "    <tr>\n",
              "      <th>4</th>\n",
              "      <td>0003ad6ef0c37534f80b55b4235108024b407f0b</td>\n",
              "      <td>Fleetwood are the only team still to have a 10...</td>\n",
              "      <td>Fleetwood top of League One after 2-0 win at S...</td>\n",
              "    </tr>\n",
              "    <tr>\n",
              "      <th>...</th>\n",
              "      <td>...</td>\n",
              "      <td>...</td>\n",
              "      <td>...</td>\n",
              "    </tr>\n",
              "    <tr>\n",
              "      <th>287108</th>\n",
              "      <td>fffdfb56fdf1a12d364562cc2b9b1d4de7481dee</td>\n",
              "      <td>By . James Rush . Former first daughter Chelse...</td>\n",
              "      <td>Chelsea Clinton said question of running for o...</td>\n",
              "    </tr>\n",
              "    <tr>\n",
              "      <th>287109</th>\n",
              "      <td>fffeecb8690b85de8c3faed80adbc7a978f9ae2a</td>\n",
              "      <td>An apologetic Vanilla Ice has given his first ...</td>\n",
              "      <td>Vanilla Ice, 47 - real name Robert Van Winkle ...</td>\n",
              "    </tr>\n",
              "    <tr>\n",
              "      <th>287110</th>\n",
              "      <td>ffff5231e4c71544bc6c97015cdb16c60e42b3f4</td>\n",
              "      <td>America's most lethal sniper claimed he wished...</td>\n",
              "      <td>America's most lethal sniper made comment in i...</td>\n",
              "    </tr>\n",
              "    <tr>\n",
              "      <th>287111</th>\n",
              "      <td>ffff924b14a8d82058b6c1c5368ff1113c1632af</td>\n",
              "      <td>By . Sara Malm . PUBLISHED: . 12:19 EST, 8 Mar...</td>\n",
              "      <td>A swarm of more than one million has crossed b...</td>\n",
              "    </tr>\n",
              "    <tr>\n",
              "      <th>287112</th>\n",
              "      <td>ffffd563a96104f5cf4493cfa701a65f31b06abf</td>\n",
              "      <td>(CNN)Former Florida Gov. Jeb Bush has decided ...</td>\n",
              "      <td>Other 2016 hopefuls maintain that Bush's annou...</td>\n",
              "    </tr>\n",
              "  </tbody>\n",
              "</table>\n",
              "<p>287113 rows × 3 columns</p>\n",
              "</div>"
            ],
            "text/plain": [
              "                                              id  \\\n",
              "0       0001d1afc246a7964130f43ae940af6bc6c57f01   \n",
              "1       0002095e55fcbd3a2f366d9bf92a95433dc305ef   \n",
              "2       00027e965c8264c35cc1bc55556db388da82b07f   \n",
              "3       0002c17436637c4fe1837c935c04de47adb18e9a   \n",
              "4       0003ad6ef0c37534f80b55b4235108024b407f0b   \n",
              "...                                          ...   \n",
              "287108  fffdfb56fdf1a12d364562cc2b9b1d4de7481dee   \n",
              "287109  fffeecb8690b85de8c3faed80adbc7a978f9ae2a   \n",
              "287110  ffff5231e4c71544bc6c97015cdb16c60e42b3f4   \n",
              "287111  ffff924b14a8d82058b6c1c5368ff1113c1632af   \n",
              "287112  ffffd563a96104f5cf4493cfa701a65f31b06abf   \n",
              "\n",
              "                                                  article  \\\n",
              "0       By . Associated Press . PUBLISHED: . 14:11 EST...   \n",
              "1       (CNN) -- Ralph Mata was an internal affairs li...   \n",
              "2       A drunk driver who killed a young woman in a h...   \n",
              "3       (CNN) -- With a breezy sweep of his pen Presid...   \n",
              "4       Fleetwood are the only team still to have a 10...   \n",
              "...                                                   ...   \n",
              "287108  By . James Rush . Former first daughter Chelse...   \n",
              "287109  An apologetic Vanilla Ice has given his first ...   \n",
              "287110  America's most lethal sniper claimed he wished...   \n",
              "287111  By . Sara Malm . PUBLISHED: . 12:19 EST, 8 Mar...   \n",
              "287112  (CNN)Former Florida Gov. Jeb Bush has decided ...   \n",
              "\n",
              "                                               highlights  \n",
              "0       Bishop John Folda, of North Dakota, is taking ...  \n",
              "1       Criminal complaint: Cop used his role to help ...  \n",
              "2       Craig Eccleston-Todd, 27, had drunk at least t...  \n",
              "3       Nina dos Santos says Europe must be ready to a...  \n",
              "4       Fleetwood top of League One after 2-0 win at S...  \n",
              "...                                                   ...  \n",
              "287108  Chelsea Clinton said question of running for o...  \n",
              "287109  Vanilla Ice, 47 - real name Robert Van Winkle ...  \n",
              "287110  America's most lethal sniper made comment in i...  \n",
              "287111  A swarm of more than one million has crossed b...  \n",
              "287112  Other 2016 hopefuls maintain that Bush's annou...  \n",
              "\n",
              "[287113 rows x 3 columns]"
            ]
          },
          "execution_count": 3,
          "metadata": {},
          "output_type": "execute_result"
        }
      ],
      "source": [
        "train_df"
      ]
    },
    {
      "cell_type": "code",
      "execution_count": 4,
      "metadata": {
        "execution": {
          "iopub.execute_input": "2024-10-18T04:27:03.964111Z",
          "iopub.status.busy": "2024-10-18T04:27:03.963609Z",
          "iopub.status.idle": "2024-10-18T04:27:03.978378Z",
          "shell.execute_reply": "2024-10-18T04:27:03.977161Z",
          "shell.execute_reply.started": "2024-10-18T04:27:03.964059Z"
        },
        "id": "6zgfrl-a4viH",
        "trusted": true
      },
      "outputs": [
        {
          "data": {
            "text/html": [
              "<div>\n",
              "<style scoped>\n",
              "    .dataframe tbody tr th:only-of-type {\n",
              "        vertical-align: middle;\n",
              "    }\n",
              "\n",
              "    .dataframe tbody tr th {\n",
              "        vertical-align: top;\n",
              "    }\n",
              "\n",
              "    .dataframe thead th {\n",
              "        text-align: right;\n",
              "    }\n",
              "</style>\n",
              "<table border=\"1\" class=\"dataframe\">\n",
              "  <thead>\n",
              "    <tr style=\"text-align: right;\">\n",
              "      <th></th>\n",
              "      <th>id</th>\n",
              "      <th>article</th>\n",
              "      <th>highlights</th>\n",
              "    </tr>\n",
              "  </thead>\n",
              "  <tbody>\n",
              "    <tr>\n",
              "      <th>0</th>\n",
              "      <td>92c514c913c0bdfe25341af9fd72b29db544099b</td>\n",
              "      <td>Ever noticed how plane seats appear to be gett...</td>\n",
              "      <td>Experts question if  packed out planes are put...</td>\n",
              "    </tr>\n",
              "    <tr>\n",
              "      <th>1</th>\n",
              "      <td>2003841c7dc0e7c5b1a248f9cd536d727f27a45a</td>\n",
              "      <td>A drunk teenage boy had to be rescued by secur...</td>\n",
              "      <td>Drunk teenage boy climbed into lion enclosure ...</td>\n",
              "    </tr>\n",
              "    <tr>\n",
              "      <th>2</th>\n",
              "      <td>91b7d2311527f5c2b63a65ca98d21d9c92485149</td>\n",
              "      <td>Dougie Freedman is on the verge of agreeing a ...</td>\n",
              "      <td>Nottingham Forest are close to extending Dougi...</td>\n",
              "    </tr>\n",
              "    <tr>\n",
              "      <th>3</th>\n",
              "      <td>caabf9cbdf96eb1410295a673e953d304391bfbb</td>\n",
              "      <td>Liverpool target Neto is also wanted by PSG an...</td>\n",
              "      <td>Fiorentina goalkeeper Neto has been linked wit...</td>\n",
              "    </tr>\n",
              "    <tr>\n",
              "      <th>4</th>\n",
              "      <td>3da746a7d9afcaa659088c8366ef6347fe6b53ea</td>\n",
              "      <td>Bruce Jenner will break his silence in a two-h...</td>\n",
              "      <td>Tell-all interview with the reality TV star, 6...</td>\n",
              "    </tr>\n",
              "    <tr>\n",
              "      <th>...</th>\n",
              "      <td>...</td>\n",
              "      <td>...</td>\n",
              "      <td>...</td>\n",
              "    </tr>\n",
              "    <tr>\n",
              "      <th>11485</th>\n",
              "      <td>ed8674cc15b29a87d8df8de1efee353d71122272</td>\n",
              "      <td>Our young Earth may have collided with a body ...</td>\n",
              "      <td>Oxford scientists say a Mercury-like body stru...</td>\n",
              "    </tr>\n",
              "    <tr>\n",
              "      <th>11486</th>\n",
              "      <td>2f58d1a99e9c47914e4b1c31613e3a041cd9011e</td>\n",
              "      <td>A man facing trial for helping his former love...</td>\n",
              "      <td>Man accused of helping former lover kill woman...</td>\n",
              "    </tr>\n",
              "    <tr>\n",
              "      <th>11487</th>\n",
              "      <td>411f6d57825161c3a037b4742baccd6cd227c0c3</td>\n",
              "      <td>A dozen or more metal implements are arranged ...</td>\n",
              "      <td>Marianne Power tried the tuning fork facial at...</td>\n",
              "    </tr>\n",
              "    <tr>\n",
              "      <th>11488</th>\n",
              "      <td>b5683ef8342056b17b068e0d59bdbe87e3fe44ea</td>\n",
              "      <td>Brook Lopez dominated twin brother Robin with ...</td>\n",
              "      <td>Brooklyn Nets beat the Portland Trail Blazers ...</td>\n",
              "    </tr>\n",
              "    <tr>\n",
              "      <th>11489</th>\n",
              "      <td>a6a5491edb0c96c4391b6a8c4504416b3572b3a1</td>\n",
              "      <td>A Chinese hospital is being painstakingly move...</td>\n",
              "      <td>Chinese hospital marked for demolition because...</td>\n",
              "    </tr>\n",
              "  </tbody>\n",
              "</table>\n",
              "<p>11490 rows × 3 columns</p>\n",
              "</div>"
            ],
            "text/plain": [
              "                                             id  \\\n",
              "0      92c514c913c0bdfe25341af9fd72b29db544099b   \n",
              "1      2003841c7dc0e7c5b1a248f9cd536d727f27a45a   \n",
              "2      91b7d2311527f5c2b63a65ca98d21d9c92485149   \n",
              "3      caabf9cbdf96eb1410295a673e953d304391bfbb   \n",
              "4      3da746a7d9afcaa659088c8366ef6347fe6b53ea   \n",
              "...                                         ...   \n",
              "11485  ed8674cc15b29a87d8df8de1efee353d71122272   \n",
              "11486  2f58d1a99e9c47914e4b1c31613e3a041cd9011e   \n",
              "11487  411f6d57825161c3a037b4742baccd6cd227c0c3   \n",
              "11488  b5683ef8342056b17b068e0d59bdbe87e3fe44ea   \n",
              "11489  a6a5491edb0c96c4391b6a8c4504416b3572b3a1   \n",
              "\n",
              "                                                 article  \\\n",
              "0      Ever noticed how plane seats appear to be gett...   \n",
              "1      A drunk teenage boy had to be rescued by secur...   \n",
              "2      Dougie Freedman is on the verge of agreeing a ...   \n",
              "3      Liverpool target Neto is also wanted by PSG an...   \n",
              "4      Bruce Jenner will break his silence in a two-h...   \n",
              "...                                                  ...   \n",
              "11485  Our young Earth may have collided with a body ...   \n",
              "11486  A man facing trial for helping his former love...   \n",
              "11487  A dozen or more metal implements are arranged ...   \n",
              "11488  Brook Lopez dominated twin brother Robin with ...   \n",
              "11489  A Chinese hospital is being painstakingly move...   \n",
              "\n",
              "                                              highlights  \n",
              "0      Experts question if  packed out planes are put...  \n",
              "1      Drunk teenage boy climbed into lion enclosure ...  \n",
              "2      Nottingham Forest are close to extending Dougi...  \n",
              "3      Fiorentina goalkeeper Neto has been linked wit...  \n",
              "4      Tell-all interview with the reality TV star, 6...  \n",
              "...                                                  ...  \n",
              "11485  Oxford scientists say a Mercury-like body stru...  \n",
              "11486  Man accused of helping former lover kill woman...  \n",
              "11487  Marianne Power tried the tuning fork facial at...  \n",
              "11488  Brooklyn Nets beat the Portland Trail Blazers ...  \n",
              "11489  Chinese hospital marked for demolition because...  \n",
              "\n",
              "[11490 rows x 3 columns]"
            ]
          },
          "execution_count": 4,
          "metadata": {},
          "output_type": "execute_result"
        }
      ],
      "source": [
        "test_df"
      ]
    },
    {
      "cell_type": "markdown",
      "metadata": {
        "id": "G7s9qalP4viH"
      },
      "source": [
        "Reduce data length"
      ]
    },
    {
      "cell_type": "code",
      "execution_count": 5,
      "metadata": {
        "execution": {
          "iopub.execute_input": "2024-10-18T04:27:03.980314Z",
          "iopub.status.busy": "2024-10-18T04:27:03.979938Z",
          "iopub.status.idle": "2024-10-18T04:27:04.626681Z",
          "shell.execute_reply": "2024-10-18T04:27:04.625397Z",
          "shell.execute_reply.started": "2024-10-18T04:27:03.980275Z"
        },
        "id": "DQwrRMs34viH",
        "trusted": true
      },
      "outputs": [
        {
          "data": {
            "text/html": [
              "<div>\n",
              "<style scoped>\n",
              "    .dataframe tbody tr th:only-of-type {\n",
              "        vertical-align: middle;\n",
              "    }\n",
              "\n",
              "    .dataframe tbody tr th {\n",
              "        vertical-align: top;\n",
              "    }\n",
              "\n",
              "    .dataframe thead th {\n",
              "        text-align: right;\n",
              "    }\n",
              "</style>\n",
              "<table border=\"1\" class=\"dataframe\">\n",
              "  <thead>\n",
              "    <tr style=\"text-align: right;\">\n",
              "      <th></th>\n",
              "      <th>id</th>\n",
              "      <th>article</th>\n",
              "      <th>highlights</th>\n",
              "    </tr>\n",
              "  </thead>\n",
              "  <tbody>\n",
              "    <tr>\n",
              "      <th>272581</th>\n",
              "      <td>ed0fed726929c1eeabe6c390e47128dbb7d7a055</td>\n",
              "      <td>By . Mia De Graaf . Britons flocked to beaches...</td>\n",
              "      <td>People enjoyed temperatures of 17C at Brighton...</td>\n",
              "    </tr>\n",
              "    <tr>\n",
              "      <th>772</th>\n",
              "      <td>023cd84001b33aed4ff0f3f5ecb0fdd2151cf543</td>\n",
              "      <td>A couple who weighed a combined 32st were sham...</td>\n",
              "      <td>Couple started piling on pounds after the birt...</td>\n",
              "    </tr>\n",
              "    <tr>\n",
              "      <th>171868</th>\n",
              "      <td>6a70a0d8d3ed365fe1df6d35f1587a8b9b298618</td>\n",
              "      <td>Video footage shows the heart stopping moment ...</td>\n",
              "      <td>A 17-year-old boy suffering lacerations to his...</td>\n",
              "    </tr>\n",
              "    <tr>\n",
              "      <th>63167</th>\n",
              "      <td>b37204c13ea38b511265e41ac69fb12acfb63f85</td>\n",
              "      <td>Istanbul, Turkey (CNN) -- About 250 people rac...</td>\n",
              "      <td>Syrians citizens hightail it to Turkey .\\nMost...</td>\n",
              "    </tr>\n",
              "    <tr>\n",
              "      <th>68522</th>\n",
              "      <td>c24e5805afd5145bc48410e876db91d44a06be5e</td>\n",
              "      <td>By . Daily Mail Reporter . PUBLISHED: . 12:53 ...</td>\n",
              "      <td>The Xue Long had provided the helicopter that ...</td>\n",
              "    </tr>\n",
              "    <tr>\n",
              "      <th>...</th>\n",
              "      <td>...</td>\n",
              "      <td>...</td>\n",
              "      <td>...</td>\n",
              "    </tr>\n",
              "    <tr>\n",
              "      <th>225109</th>\n",
              "      <td>af82d43ecb0fb4ce0bb23e4fda724596181c6709</td>\n",
              "      <td>An ax wielding teen was left crying for his mo...</td>\n",
              "      <td>Store clerk Ali Ait Mahdi said he defended him...</td>\n",
              "    </tr>\n",
              "    <tr>\n",
              "      <th>73267</th>\n",
              "      <td>cfca4c7a8eff7f6c1230f0b2866504f1513c68c0</td>\n",
              "      <td>A food supplier falsely marketed beef to Musli...</td>\n",
              "      <td>Midamar Corp, of Cedar Rapids, Iowa, sold food...</td>\n",
              "    </tr>\n",
              "    <tr>\n",
              "      <th>9840</th>\n",
              "      <td>1be8e21ffcabec519f305f35643821670b485181</td>\n",
              "      <td>New York (CNN) -- Diplomacy hasn't worked. San...</td>\n",
              "      <td>Hafez Nazeri and his father Shahrem play hybri...</td>\n",
              "    </tr>\n",
              "    <tr>\n",
              "      <th>210557</th>\n",
              "      <td>9cb1380d06a63402cb38089b4a125184e831bbde</td>\n",
              "      <td>(CNN) -- Is Gail Kelly the most powerful woman...</td>\n",
              "      <td>Meet Gail Kelly, CEO of Australia's second lar...</td>\n",
              "    </tr>\n",
              "    <tr>\n",
              "      <th>107379</th>\n",
              "      <td>167f6ddddb8e4a6ada8aeabcb0f6b86b34dcb93a</td>\n",
              "      <td>By . Emma Glanfield . A Subway worker who used...</td>\n",
              "      <td>Alice Sykes laid her wet clothes on heated met...</td>\n",
              "    </tr>\n",
              "  </tbody>\n",
              "</table>\n",
              "<p>28711 rows × 3 columns</p>\n",
              "</div>"
            ],
            "text/plain": [
              "                                              id  \\\n",
              "272581  ed0fed726929c1eeabe6c390e47128dbb7d7a055   \n",
              "772     023cd84001b33aed4ff0f3f5ecb0fdd2151cf543   \n",
              "171868  6a70a0d8d3ed365fe1df6d35f1587a8b9b298618   \n",
              "63167   b37204c13ea38b511265e41ac69fb12acfb63f85   \n",
              "68522   c24e5805afd5145bc48410e876db91d44a06be5e   \n",
              "...                                          ...   \n",
              "225109  af82d43ecb0fb4ce0bb23e4fda724596181c6709   \n",
              "73267   cfca4c7a8eff7f6c1230f0b2866504f1513c68c0   \n",
              "9840    1be8e21ffcabec519f305f35643821670b485181   \n",
              "210557  9cb1380d06a63402cb38089b4a125184e831bbde   \n",
              "107379  167f6ddddb8e4a6ada8aeabcb0f6b86b34dcb93a   \n",
              "\n",
              "                                                  article  \\\n",
              "272581  By . Mia De Graaf . Britons flocked to beaches...   \n",
              "772     A couple who weighed a combined 32st were sham...   \n",
              "171868  Video footage shows the heart stopping moment ...   \n",
              "63167   Istanbul, Turkey (CNN) -- About 250 people rac...   \n",
              "68522   By . Daily Mail Reporter . PUBLISHED: . 12:53 ...   \n",
              "...                                                   ...   \n",
              "225109  An ax wielding teen was left crying for his mo...   \n",
              "73267   A food supplier falsely marketed beef to Musli...   \n",
              "9840    New York (CNN) -- Diplomacy hasn't worked. San...   \n",
              "210557  (CNN) -- Is Gail Kelly the most powerful woman...   \n",
              "107379  By . Emma Glanfield . A Subway worker who used...   \n",
              "\n",
              "                                               highlights  \n",
              "272581  People enjoyed temperatures of 17C at Brighton...  \n",
              "772     Couple started piling on pounds after the birt...  \n",
              "171868  A 17-year-old boy suffering lacerations to his...  \n",
              "63167   Syrians citizens hightail it to Turkey .\\nMost...  \n",
              "68522   The Xue Long had provided the helicopter that ...  \n",
              "...                                                   ...  \n",
              "225109  Store clerk Ali Ait Mahdi said he defended him...  \n",
              "73267   Midamar Corp, of Cedar Rapids, Iowa, sold food...  \n",
              "9840    Hafez Nazeri and his father Shahrem play hybri...  \n",
              "210557  Meet Gail Kelly, CEO of Australia's second lar...  \n",
              "107379  Alice Sykes laid her wet clothes on heated met...  \n",
              "\n",
              "[28711 rows x 3 columns]"
            ]
          },
          "execution_count": 5,
          "metadata": {},
          "output_type": "execute_result"
        }
      ],
      "source": [
        "from sklearn.utils import shuffle\n",
        "train_df_shuffled = shuffle(train_df, random_state=42)  # random_state for reproducibility\n",
        "subset_size = int(0.1 * len(train_df_shuffled)) # take 0.25 of data length عايزين نخلص\n",
        "train_df = train_df_shuffled.iloc[:subset_size]\n",
        "train_df"
      ]
    },
    {
      "cell_type": "code",
      "execution_count": 6,
      "metadata": {
        "execution": {
          "iopub.execute_input": "2024-10-18T04:27:04.62857Z",
          "iopub.status.busy": "2024-10-18T04:27:04.62807Z",
          "iopub.status.idle": "2024-10-18T04:27:04.679359Z",
          "shell.execute_reply": "2024-10-18T04:27:04.678069Z",
          "shell.execute_reply.started": "2024-10-18T04:27:04.628531Z"
        },
        "id": "jam2pLzq4viI",
        "trusted": true
      },
      "outputs": [
        {
          "name": "stderr",
          "output_type": "stream",
          "text": [
            "C:\\Users\\acer\\AppData\\Local\\Temp\\ipykernel_20636\\2273873252.py:1: SettingWithCopyWarning: \n",
            "A value is trying to be set on a copy of a slice from a DataFrame\n",
            "\n",
            "See the caveats in the documentation: https://pandas.pydata.org/pandas-docs/stable/user_guide/indexing.html#returning-a-view-versus-a-copy\n",
            "  train_df.drop_duplicates(['highlights'], inplace=True)\n"
          ]
        }
      ],
      "source": [
        "train_df.drop_duplicates(['highlights'], inplace=True)\n",
        "test_df.drop_duplicates(['highlights'], inplace=True)\n",
        "train_df = train_df.drop(['id'], axis= 1)\n",
        "train_df.reset_index(inplace=True, drop=True)\n",
        "test_df = test_df.drop(['id'], axis= 1)\n",
        "test_df.reset_index(inplace=True, drop=True)"
      ]
    },
    {
      "cell_type": "code",
      "execution_count": 7,
      "metadata": {
        "execution": {
          "iopub.execute_input": "2024-10-18T04:27:04.681193Z",
          "iopub.status.busy": "2024-10-18T04:27:04.680814Z",
          "iopub.status.idle": "2024-10-18T04:27:04.696048Z",
          "shell.execute_reply": "2024-10-18T04:27:04.694647Z",
          "shell.execute_reply.started": "2024-10-18T04:27:04.681139Z"
        },
        "id": "-n0NanC84viI",
        "trusted": true
      },
      "outputs": [
        {
          "data": {
            "text/html": [
              "<div>\n",
              "<style scoped>\n",
              "    .dataframe tbody tr th:only-of-type {\n",
              "        vertical-align: middle;\n",
              "    }\n",
              "\n",
              "    .dataframe tbody tr th {\n",
              "        vertical-align: top;\n",
              "    }\n",
              "\n",
              "    .dataframe thead th {\n",
              "        text-align: right;\n",
              "    }\n",
              "</style>\n",
              "<table border=\"1\" class=\"dataframe\">\n",
              "  <thead>\n",
              "    <tr style=\"text-align: right;\">\n",
              "      <th></th>\n",
              "      <th>article</th>\n",
              "      <th>highlights</th>\n",
              "    </tr>\n",
              "  </thead>\n",
              "  <tbody>\n",
              "    <tr>\n",
              "      <th>0</th>\n",
              "      <td>By . Mia De Graaf . Britons flocked to beaches...</td>\n",
              "      <td>People enjoyed temperatures of 17C at Brighton...</td>\n",
              "    </tr>\n",
              "    <tr>\n",
              "      <th>1</th>\n",
              "      <td>A couple who weighed a combined 32st were sham...</td>\n",
              "      <td>Couple started piling on pounds after the birt...</td>\n",
              "    </tr>\n",
              "    <tr>\n",
              "      <th>2</th>\n",
              "      <td>Video footage shows the heart stopping moment ...</td>\n",
              "      <td>A 17-year-old boy suffering lacerations to his...</td>\n",
              "    </tr>\n",
              "    <tr>\n",
              "      <th>3</th>\n",
              "      <td>Istanbul, Turkey (CNN) -- About 250 people rac...</td>\n",
              "      <td>Syrians citizens hightail it to Turkey .\\nMost...</td>\n",
              "    </tr>\n",
              "    <tr>\n",
              "      <th>4</th>\n",
              "      <td>By . Daily Mail Reporter . PUBLISHED: . 12:53 ...</td>\n",
              "      <td>The Xue Long had provided the helicopter that ...</td>\n",
              "    </tr>\n",
              "    <tr>\n",
              "      <th>...</th>\n",
              "      <td>...</td>\n",
              "      <td>...</td>\n",
              "    </tr>\n",
              "    <tr>\n",
              "      <th>28647</th>\n",
              "      <td>An ax wielding teen was left crying for his mo...</td>\n",
              "      <td>Store clerk Ali Ait Mahdi said he defended him...</td>\n",
              "    </tr>\n",
              "    <tr>\n",
              "      <th>28648</th>\n",
              "      <td>A food supplier falsely marketed beef to Musli...</td>\n",
              "      <td>Midamar Corp, of Cedar Rapids, Iowa, sold food...</td>\n",
              "    </tr>\n",
              "    <tr>\n",
              "      <th>28649</th>\n",
              "      <td>New York (CNN) -- Diplomacy hasn't worked. San...</td>\n",
              "      <td>Hafez Nazeri and his father Shahrem play hybri...</td>\n",
              "    </tr>\n",
              "    <tr>\n",
              "      <th>28650</th>\n",
              "      <td>(CNN) -- Is Gail Kelly the most powerful woman...</td>\n",
              "      <td>Meet Gail Kelly, CEO of Australia's second lar...</td>\n",
              "    </tr>\n",
              "    <tr>\n",
              "      <th>28651</th>\n",
              "      <td>By . Emma Glanfield . A Subway worker who used...</td>\n",
              "      <td>Alice Sykes laid her wet clothes on heated met...</td>\n",
              "    </tr>\n",
              "  </tbody>\n",
              "</table>\n",
              "<p>28652 rows × 2 columns</p>\n",
              "</div>"
            ],
            "text/plain": [
              "                                                 article  \\\n",
              "0      By . Mia De Graaf . Britons flocked to beaches...   \n",
              "1      A couple who weighed a combined 32st were sham...   \n",
              "2      Video footage shows the heart stopping moment ...   \n",
              "3      Istanbul, Turkey (CNN) -- About 250 people rac...   \n",
              "4      By . Daily Mail Reporter . PUBLISHED: . 12:53 ...   \n",
              "...                                                  ...   \n",
              "28647  An ax wielding teen was left crying for his mo...   \n",
              "28648  A food supplier falsely marketed beef to Musli...   \n",
              "28649  New York (CNN) -- Diplomacy hasn't worked. San...   \n",
              "28650  (CNN) -- Is Gail Kelly the most powerful woman...   \n",
              "28651  By . Emma Glanfield . A Subway worker who used...   \n",
              "\n",
              "                                              highlights  \n",
              "0      People enjoyed temperatures of 17C at Brighton...  \n",
              "1      Couple started piling on pounds after the birt...  \n",
              "2      A 17-year-old boy suffering lacerations to his...  \n",
              "3      Syrians citizens hightail it to Turkey .\\nMost...  \n",
              "4      The Xue Long had provided the helicopter that ...  \n",
              "...                                                  ...  \n",
              "28647  Store clerk Ali Ait Mahdi said he defended him...  \n",
              "28648  Midamar Corp, of Cedar Rapids, Iowa, sold food...  \n",
              "28649  Hafez Nazeri and his father Shahrem play hybri...  \n",
              "28650  Meet Gail Kelly, CEO of Australia's second lar...  \n",
              "28651  Alice Sykes laid her wet clothes on heated met...  \n",
              "\n",
              "[28652 rows x 2 columns]"
            ]
          },
          "execution_count": 7,
          "metadata": {},
          "output_type": "execute_result"
        }
      ],
      "source": [
        "train_df"
      ]
    },
    {
      "cell_type": "code",
      "execution_count": 8,
      "metadata": {
        "execution": {
          "iopub.execute_input": "2024-10-18T04:27:04.698739Z",
          "iopub.status.busy": "2024-10-18T04:27:04.697778Z",
          "iopub.status.idle": "2024-10-18T04:27:04.718186Z",
          "shell.execute_reply": "2024-10-18T04:27:04.716814Z",
          "shell.execute_reply.started": "2024-10-18T04:27:04.698686Z"
        },
        "id": "chXJ-4K04viJ",
        "trusted": true
      },
      "outputs": [
        {
          "data": {
            "text/html": [
              "<div>\n",
              "<style scoped>\n",
              "    .dataframe tbody tr th:only-of-type {\n",
              "        vertical-align: middle;\n",
              "    }\n",
              "\n",
              "    .dataframe tbody tr th {\n",
              "        vertical-align: top;\n",
              "    }\n",
              "\n",
              "    .dataframe thead th {\n",
              "        text-align: right;\n",
              "    }\n",
              "</style>\n",
              "<table border=\"1\" class=\"dataframe\">\n",
              "  <thead>\n",
              "    <tr style=\"text-align: right;\">\n",
              "      <th></th>\n",
              "      <th>article</th>\n",
              "      <th>highlights</th>\n",
              "    </tr>\n",
              "  </thead>\n",
              "  <tbody>\n",
              "    <tr>\n",
              "      <th>0</th>\n",
              "      <td>Ever noticed how plane seats appear to be gett...</td>\n",
              "      <td>Experts question if  packed out planes are put...</td>\n",
              "    </tr>\n",
              "    <tr>\n",
              "      <th>1</th>\n",
              "      <td>A drunk teenage boy had to be rescued by secur...</td>\n",
              "      <td>Drunk teenage boy climbed into lion enclosure ...</td>\n",
              "    </tr>\n",
              "    <tr>\n",
              "      <th>2</th>\n",
              "      <td>Dougie Freedman is on the verge of agreeing a ...</td>\n",
              "      <td>Nottingham Forest are close to extending Dougi...</td>\n",
              "    </tr>\n",
              "    <tr>\n",
              "      <th>3</th>\n",
              "      <td>Liverpool target Neto is also wanted by PSG an...</td>\n",
              "      <td>Fiorentina goalkeeper Neto has been linked wit...</td>\n",
              "    </tr>\n",
              "    <tr>\n",
              "      <th>4</th>\n",
              "      <td>Bruce Jenner will break his silence in a two-h...</td>\n",
              "      <td>Tell-all interview with the reality TV star, 6...</td>\n",
              "    </tr>\n",
              "    <tr>\n",
              "      <th>...</th>\n",
              "      <td>...</td>\n",
              "      <td>...</td>\n",
              "    </tr>\n",
              "    <tr>\n",
              "      <th>11444</th>\n",
              "      <td>Our young Earth may have collided with a body ...</td>\n",
              "      <td>Oxford scientists say a Mercury-like body stru...</td>\n",
              "    </tr>\n",
              "    <tr>\n",
              "      <th>11445</th>\n",
              "      <td>A man facing trial for helping his former love...</td>\n",
              "      <td>Man accused of helping former lover kill woman...</td>\n",
              "    </tr>\n",
              "    <tr>\n",
              "      <th>11446</th>\n",
              "      <td>A dozen or more metal implements are arranged ...</td>\n",
              "      <td>Marianne Power tried the tuning fork facial at...</td>\n",
              "    </tr>\n",
              "    <tr>\n",
              "      <th>11447</th>\n",
              "      <td>Brook Lopez dominated twin brother Robin with ...</td>\n",
              "      <td>Brooklyn Nets beat the Portland Trail Blazers ...</td>\n",
              "    </tr>\n",
              "    <tr>\n",
              "      <th>11448</th>\n",
              "      <td>A Chinese hospital is being painstakingly move...</td>\n",
              "      <td>Chinese hospital marked for demolition because...</td>\n",
              "    </tr>\n",
              "  </tbody>\n",
              "</table>\n",
              "<p>11449 rows × 2 columns</p>\n",
              "</div>"
            ],
            "text/plain": [
              "                                                 article  \\\n",
              "0      Ever noticed how plane seats appear to be gett...   \n",
              "1      A drunk teenage boy had to be rescued by secur...   \n",
              "2      Dougie Freedman is on the verge of agreeing a ...   \n",
              "3      Liverpool target Neto is also wanted by PSG an...   \n",
              "4      Bruce Jenner will break his silence in a two-h...   \n",
              "...                                                  ...   \n",
              "11444  Our young Earth may have collided with a body ...   \n",
              "11445  A man facing trial for helping his former love...   \n",
              "11446  A dozen or more metal implements are arranged ...   \n",
              "11447  Brook Lopez dominated twin brother Robin with ...   \n",
              "11448  A Chinese hospital is being painstakingly move...   \n",
              "\n",
              "                                              highlights  \n",
              "0      Experts question if  packed out planes are put...  \n",
              "1      Drunk teenage boy climbed into lion enclosure ...  \n",
              "2      Nottingham Forest are close to extending Dougi...  \n",
              "3      Fiorentina goalkeeper Neto has been linked wit...  \n",
              "4      Tell-all interview with the reality TV star, 6...  \n",
              "...                                                  ...  \n",
              "11444  Oxford scientists say a Mercury-like body stru...  \n",
              "11445  Man accused of helping former lover kill woman...  \n",
              "11446  Marianne Power tried the tuning fork facial at...  \n",
              "11447  Brooklyn Nets beat the Portland Trail Blazers ...  \n",
              "11448  Chinese hospital marked for demolition because...  \n",
              "\n",
              "[11449 rows x 2 columns]"
            ]
          },
          "execution_count": 8,
          "metadata": {},
          "output_type": "execute_result"
        }
      ],
      "source": [
        "test_df"
      ]
    },
    {
      "cell_type": "markdown",
      "metadata": {
        "id": "Z4k7EbEX4viJ"
      },
      "source": [
        "# Text Cleaning"
      ]
    },
    {
      "cell_type": "code",
      "execution_count": 9,
      "metadata": {
        "execution": {
          "iopub.execute_input": "2024-10-18T04:27:04.720937Z",
          "iopub.status.busy": "2024-10-18T04:27:04.72027Z",
          "iopub.status.idle": "2024-10-18T04:27:12.663724Z",
          "shell.execute_reply": "2024-10-18T04:27:12.662339Z",
          "shell.execute_reply.started": "2024-10-18T04:27:04.720875Z"
        },
        "id": "gKAQyku74viJ",
        "trusted": true
      },
      "outputs": [],
      "source": [
        "import spacy\n",
        "nlp = spacy.load('en_core_web_sm')\n",
        "\n",
        "def clean_text(text):\n",
        "    #convert text to doc\n",
        "    doc = nlp(text)\n",
        "\n",
        "    # filter out stopwords and punctuation\n",
        "    cleaned_words = [token.text.lower()\n",
        "                     for token in doc\n",
        "                     if not token.is_stop and not token.is_punct]\n",
        "\n",
        "    return \" \".join(cleaned_words)\n"
      ]
    },
    {
      "cell_type": "markdown",
      "metadata": {
        "id": "dLfakWrZ4viJ"
      },
      "source": [
        "### When I tried the data length to be about 57K and 124K and 248K I took a lot of time to clean so I taked first 10K article"
      ]
    },
    {
      "cell_type": "code",
      "execution_count": 10,
      "metadata": {
        "execution": {
          "iopub.execute_input": "2024-10-18T04:27:12.668737Z",
          "iopub.status.busy": "2024-10-18T04:27:12.668036Z",
          "iopub.status.idle": "2024-10-18T04:27:12.683466Z",
          "shell.execute_reply": "2024-10-18T04:27:12.682257Z",
          "shell.execute_reply.started": "2024-10-18T04:27:12.668688Z"
        },
        "id": "pROOA2XC4viJ",
        "trusted": true
      },
      "outputs": [
        {
          "data": {
            "text/html": [
              "<div>\n",
              "<style scoped>\n",
              "    .dataframe tbody tr th:only-of-type {\n",
              "        vertical-align: middle;\n",
              "    }\n",
              "\n",
              "    .dataframe tbody tr th {\n",
              "        vertical-align: top;\n",
              "    }\n",
              "\n",
              "    .dataframe thead th {\n",
              "        text-align: right;\n",
              "    }\n",
              "</style>\n",
              "<table border=\"1\" class=\"dataframe\">\n",
              "  <thead>\n",
              "    <tr style=\"text-align: right;\">\n",
              "      <th></th>\n",
              "      <th>article</th>\n",
              "      <th>highlights</th>\n",
              "    </tr>\n",
              "  </thead>\n",
              "  <tbody>\n",
              "    <tr>\n",
              "      <th>0</th>\n",
              "      <td>By . Mia De Graaf . Britons flocked to beaches...</td>\n",
              "      <td>People enjoyed temperatures of 17C at Brighton...</td>\n",
              "    </tr>\n",
              "    <tr>\n",
              "      <th>1</th>\n",
              "      <td>A couple who weighed a combined 32st were sham...</td>\n",
              "      <td>Couple started piling on pounds after the birt...</td>\n",
              "    </tr>\n",
              "    <tr>\n",
              "      <th>2</th>\n",
              "      <td>Video footage shows the heart stopping moment ...</td>\n",
              "      <td>A 17-year-old boy suffering lacerations to his...</td>\n",
              "    </tr>\n",
              "    <tr>\n",
              "      <th>3</th>\n",
              "      <td>Istanbul, Turkey (CNN) -- About 250 people rac...</td>\n",
              "      <td>Syrians citizens hightail it to Turkey .\\nMost...</td>\n",
              "    </tr>\n",
              "    <tr>\n",
              "      <th>4</th>\n",
              "      <td>By . Daily Mail Reporter . PUBLISHED: . 12:53 ...</td>\n",
              "      <td>The Xue Long had provided the helicopter that ...</td>\n",
              "    </tr>\n",
              "    <tr>\n",
              "      <th>...</th>\n",
              "      <td>...</td>\n",
              "      <td>...</td>\n",
              "    </tr>\n",
              "    <tr>\n",
              "      <th>1995</th>\n",
              "      <td>By . Nicola Harley . A legal firm that made mo...</td>\n",
              "      <td>Insult came in a training manual Raleys Solici...</td>\n",
              "    </tr>\n",
              "    <tr>\n",
              "      <th>1996</th>\n",
              "      <td>The average interest rate on an easy-access IS...</td>\n",
              "      <td>It is the lowest average rate since MoneyFacts...</td>\n",
              "    </tr>\n",
              "    <tr>\n",
              "      <th>1997</th>\n",
              "      <td>(CNN) -- There are plenty of reasons to fall i...</td>\n",
              "      <td>Staircases are important elements in home deco...</td>\n",
              "    </tr>\n",
              "    <tr>\n",
              "      <th>1998</th>\n",
              "      <td>By . Steve Robson . PUBLISHED: . 01:29 EST, 25...</td>\n",
              "      <td>Victor Ponta says he is 'rather perplexed' by ...</td>\n",
              "    </tr>\n",
              "    <tr>\n",
              "      <th>1999</th>\n",
              "      <td>By . Steve Nolan . PUBLISHED: . 11:41 EST, 24 ...</td>\n",
              "      <td>Elleanor Bennett died 27 hours after her birth...</td>\n",
              "    </tr>\n",
              "  </tbody>\n",
              "</table>\n",
              "<p>2000 rows × 2 columns</p>\n",
              "</div>"
            ],
            "text/plain": [
              "                                                article  \\\n",
              "0     By . Mia De Graaf . Britons flocked to beaches...   \n",
              "1     A couple who weighed a combined 32st were sham...   \n",
              "2     Video footage shows the heart stopping moment ...   \n",
              "3     Istanbul, Turkey (CNN) -- About 250 people rac...   \n",
              "4     By . Daily Mail Reporter . PUBLISHED: . 12:53 ...   \n",
              "...                                                 ...   \n",
              "1995  By . Nicola Harley . A legal firm that made mo...   \n",
              "1996  The average interest rate on an easy-access IS...   \n",
              "1997  (CNN) -- There are plenty of reasons to fall i...   \n",
              "1998  By . Steve Robson . PUBLISHED: . 01:29 EST, 25...   \n",
              "1999  By . Steve Nolan . PUBLISHED: . 11:41 EST, 24 ...   \n",
              "\n",
              "                                             highlights  \n",
              "0     People enjoyed temperatures of 17C at Brighton...  \n",
              "1     Couple started piling on pounds after the birt...  \n",
              "2     A 17-year-old boy suffering lacerations to his...  \n",
              "3     Syrians citizens hightail it to Turkey .\\nMost...  \n",
              "4     The Xue Long had provided the helicopter that ...  \n",
              "...                                                 ...  \n",
              "1995  Insult came in a training manual Raleys Solici...  \n",
              "1996  It is the lowest average rate since MoneyFacts...  \n",
              "1997  Staircases are important elements in home deco...  \n",
              "1998  Victor Ponta says he is 'rather perplexed' by ...  \n",
              "1999  Elleanor Bennett died 27 hours after her birth...  \n",
              "\n",
              "[2000 rows x 2 columns]"
            ]
          },
          "execution_count": 10,
          "metadata": {},
          "output_type": "execute_result"
        }
      ],
      "source": [
        "new_train_df = train_df[:2000]\n",
        "new_train_df"
      ]
    },
    {
      "cell_type": "code",
      "execution_count": 11,
      "metadata": {
        "execution": {
          "iopub.execute_input": "2024-10-18T04:27:12.685434Z",
          "iopub.status.busy": "2024-10-18T04:27:12.685051Z"
        },
        "id": "mbnB29H_4viK",
        "trusted": true
      },
      "outputs": [
        {
          "name": "stderr",
          "output_type": "stream",
          "text": [
            "C:\\Users\\acer\\AppData\\Local\\Temp\\ipykernel_20636\\758646840.py:1: SettingWithCopyWarning: \n",
            "A value is trying to be set on a copy of a slice from a DataFrame.\n",
            "Try using .loc[row_indexer,col_indexer] = value instead\n",
            "\n",
            "See the caveats in the documentation: https://pandas.pydata.org/pandas-docs/stable/user_guide/indexing.html#returning-a-view-versus-a-copy\n",
            "  new_train_df[\"clean_article\"] = new_train_df['article'].apply(clean_text)\n"
          ]
        },
        {
          "data": {
            "text/html": [
              "<div>\n",
              "<style scoped>\n",
              "    .dataframe tbody tr th:only-of-type {\n",
              "        vertical-align: middle;\n",
              "    }\n",
              "\n",
              "    .dataframe tbody tr th {\n",
              "        vertical-align: top;\n",
              "    }\n",
              "\n",
              "    .dataframe thead th {\n",
              "        text-align: right;\n",
              "    }\n",
              "</style>\n",
              "<table border=\"1\" class=\"dataframe\">\n",
              "  <thead>\n",
              "    <tr style=\"text-align: right;\">\n",
              "      <th></th>\n",
              "      <th>article</th>\n",
              "      <th>highlights</th>\n",
              "      <th>clean_article</th>\n",
              "    </tr>\n",
              "  </thead>\n",
              "  <tbody>\n",
              "    <tr>\n",
              "      <th>0</th>\n",
              "      <td>By . Mia De Graaf . Britons flocked to beaches...</td>\n",
              "      <td>People enjoyed temperatures of 17C at Brighton...</td>\n",
              "      <td>mia de graaf britons flocked beaches southern ...</td>\n",
              "    </tr>\n",
              "    <tr>\n",
              "      <th>1</th>\n",
              "      <td>A couple who weighed a combined 32st were sham...</td>\n",
              "      <td>Couple started piling on pounds after the birt...</td>\n",
              "      <td>couple weighed combined 32st shamed slimming f...</td>\n",
              "    </tr>\n",
              "    <tr>\n",
              "      <th>2</th>\n",
              "      <td>Video footage shows the heart stopping moment ...</td>\n",
              "      <td>A 17-year-old boy suffering lacerations to his...</td>\n",
              "      <td>video footage shows heart stopping moment 17 y...</td>\n",
              "    </tr>\n",
              "    <tr>\n",
              "      <th>3</th>\n",
              "      <td>Istanbul, Turkey (CNN) -- About 250 people rac...</td>\n",
              "      <td>Syrians citizens hightail it to Turkey .\\nMost...</td>\n",
              "      <td>istanbul turkey cnn 250 people raced syrian bo...</td>\n",
              "    </tr>\n",
              "    <tr>\n",
              "      <th>4</th>\n",
              "      <td>By . Daily Mail Reporter . PUBLISHED: . 12:53 ...</td>\n",
              "      <td>The Xue Long had provided the helicopter that ...</td>\n",
              "      <td>daily mail reporter published 12:53 est 3 janu...</td>\n",
              "    </tr>\n",
              "    <tr>\n",
              "      <th>...</th>\n",
              "      <td>...</td>\n",
              "      <td>...</td>\n",
              "      <td>...</td>\n",
              "    </tr>\n",
              "    <tr>\n",
              "      <th>1995</th>\n",
              "      <td>By . Nicola Harley . A legal firm that made mo...</td>\n",
              "      <td>Insult came in a training manual Raleys Solici...</td>\n",
              "      <td>nicola harley legal firm £ 77 million miners c...</td>\n",
              "    </tr>\n",
              "    <tr>\n",
              "      <th>1996</th>\n",
              "      <td>The average interest rate on an easy-access IS...</td>\n",
              "      <td>It is the lowest average rate since MoneyFacts...</td>\n",
              "      <td>average interest rate easy access isa account ...</td>\n",
              "    </tr>\n",
              "    <tr>\n",
              "      <th>1997</th>\n",
              "      <td>(CNN) -- There are plenty of reasons to fall i...</td>\n",
              "      <td>Staircases are important elements in home deco...</td>\n",
              "      <td>cnn plenty reasons fall love staircase home co...</td>\n",
              "    </tr>\n",
              "    <tr>\n",
              "      <th>1998</th>\n",
              "      <td>By . Steve Robson . PUBLISHED: . 01:29 EST, 25...</td>\n",
              "      <td>Victor Ponta says he is 'rather perplexed' by ...</td>\n",
              "      <td>steve robson published 01:29 est 25 february 2...</td>\n",
              "    </tr>\n",
              "    <tr>\n",
              "      <th>1999</th>\n",
              "      <td>By . Steve Nolan . PUBLISHED: . 11:41 EST, 24 ...</td>\n",
              "      <td>Elleanor Bennett died 27 hours after her birth...</td>\n",
              "      <td>steve nolan published 11:41 est 24 september 2...</td>\n",
              "    </tr>\n",
              "  </tbody>\n",
              "</table>\n",
              "<p>2000 rows × 3 columns</p>\n",
              "</div>"
            ],
            "text/plain": [
              "                                                article  \\\n",
              "0     By . Mia De Graaf . Britons flocked to beaches...   \n",
              "1     A couple who weighed a combined 32st were sham...   \n",
              "2     Video footage shows the heart stopping moment ...   \n",
              "3     Istanbul, Turkey (CNN) -- About 250 people rac...   \n",
              "4     By . Daily Mail Reporter . PUBLISHED: . 12:53 ...   \n",
              "...                                                 ...   \n",
              "1995  By . Nicola Harley . A legal firm that made mo...   \n",
              "1996  The average interest rate on an easy-access IS...   \n",
              "1997  (CNN) -- There are plenty of reasons to fall i...   \n",
              "1998  By . Steve Robson . PUBLISHED: . 01:29 EST, 25...   \n",
              "1999  By . Steve Nolan . PUBLISHED: . 11:41 EST, 24 ...   \n",
              "\n",
              "                                             highlights  \\\n",
              "0     People enjoyed temperatures of 17C at Brighton...   \n",
              "1     Couple started piling on pounds after the birt...   \n",
              "2     A 17-year-old boy suffering lacerations to his...   \n",
              "3     Syrians citizens hightail it to Turkey .\\nMost...   \n",
              "4     The Xue Long had provided the helicopter that ...   \n",
              "...                                                 ...   \n",
              "1995  Insult came in a training manual Raleys Solici...   \n",
              "1996  It is the lowest average rate since MoneyFacts...   \n",
              "1997  Staircases are important elements in home deco...   \n",
              "1998  Victor Ponta says he is 'rather perplexed' by ...   \n",
              "1999  Elleanor Bennett died 27 hours after her birth...   \n",
              "\n",
              "                                          clean_article  \n",
              "0     mia de graaf britons flocked beaches southern ...  \n",
              "1     couple weighed combined 32st shamed slimming f...  \n",
              "2     video footage shows heart stopping moment 17 y...  \n",
              "3     istanbul turkey cnn 250 people raced syrian bo...  \n",
              "4     daily mail reporter published 12:53 est 3 janu...  \n",
              "...                                                 ...  \n",
              "1995  nicola harley legal firm £ 77 million miners c...  \n",
              "1996  average interest rate easy access isa account ...  \n",
              "1997  cnn plenty reasons fall love staircase home co...  \n",
              "1998  steve robson published 01:29 est 25 february 2...  \n",
              "1999  steve nolan published 11:41 est 24 september 2...  \n",
              "\n",
              "[2000 rows x 3 columns]"
            ]
          },
          "execution_count": 11,
          "metadata": {},
          "output_type": "execute_result"
        }
      ],
      "source": [
        "new_train_df[\"clean_article\"] = new_train_df['article'].apply(clean_text)\n",
        "new_train_df"
      ]
    },
    {
      "cell_type": "code",
      "execution_count": 12,
      "metadata": {
        "id": "mkn8wXjE4viK",
        "trusted": true
      },
      "outputs": [
        {
          "name": "stderr",
          "output_type": "stream",
          "text": [
            "C:\\Users\\acer\\AppData\\Local\\Temp\\ipykernel_20636\\4099150687.py:1: SettingWithCopyWarning: \n",
            "A value is trying to be set on a copy of a slice from a DataFrame.\n",
            "Try using .loc[row_indexer,col_indexer] = value instead\n",
            "\n",
            "See the caveats in the documentation: https://pandas.pydata.org/pandas-docs/stable/user_guide/indexing.html#returning-a-view-versus-a-copy\n",
            "  new_train_df[\"clean_highlights\"] = new_train_df['highlights'].apply(clean_text)\n"
          ]
        }
      ],
      "source": [
        "new_train_df[\"clean_highlights\"] = new_train_df['highlights'].apply(clean_text)"
      ]
    },
    {
      "cell_type": "code",
      "execution_count": 13,
      "metadata": {
        "id": "xwzZBMjU4viK",
        "trusted": true
      },
      "outputs": [
        {
          "data": {
            "text/html": [
              "<div>\n",
              "<style scoped>\n",
              "    .dataframe tbody tr th:only-of-type {\n",
              "        vertical-align: middle;\n",
              "    }\n",
              "\n",
              "    .dataframe tbody tr th {\n",
              "        vertical-align: top;\n",
              "    }\n",
              "\n",
              "    .dataframe thead th {\n",
              "        text-align: right;\n",
              "    }\n",
              "</style>\n",
              "<table border=\"1\" class=\"dataframe\">\n",
              "  <thead>\n",
              "    <tr style=\"text-align: right;\">\n",
              "      <th></th>\n",
              "      <th>article</th>\n",
              "      <th>highlights</th>\n",
              "      <th>clean_article</th>\n",
              "      <th>clean_highlights</th>\n",
              "    </tr>\n",
              "  </thead>\n",
              "  <tbody>\n",
              "    <tr>\n",
              "      <th>0</th>\n",
              "      <td>By . Mia De Graaf . Britons flocked to beaches...</td>\n",
              "      <td>People enjoyed temperatures of 17C at Brighton...</td>\n",
              "      <td>mia de graaf britons flocked beaches southern ...</td>\n",
              "      <td>people enjoyed temperatures 17c brighton beach...</td>\n",
              "    </tr>\n",
              "    <tr>\n",
              "      <th>1</th>\n",
              "      <td>A couple who weighed a combined 32st were sham...</td>\n",
              "      <td>Couple started piling on pounds after the birt...</td>\n",
              "      <td>couple weighed combined 32st shamed slimming f...</td>\n",
              "      <td>couple started piling pounds birth children \\n...</td>\n",
              "    </tr>\n",
              "    <tr>\n",
              "      <th>2</th>\n",
              "      <td>Video footage shows the heart stopping moment ...</td>\n",
              "      <td>A 17-year-old boy suffering lacerations to his...</td>\n",
              "      <td>video footage shows heart stopping moment 17 y...</td>\n",
              "      <td>17 year old boy suffering lacerations left han...</td>\n",
              "    </tr>\n",
              "    <tr>\n",
              "      <th>3</th>\n",
              "      <td>Istanbul, Turkey (CNN) -- About 250 people rac...</td>\n",
              "      <td>Syrians citizens hightail it to Turkey .\\nMost...</td>\n",
              "      <td>istanbul turkey cnn 250 people raced syrian bo...</td>\n",
              "      <td>syrians citizens hightail turkey \\n ethnic tur...</td>\n",
              "    </tr>\n",
              "    <tr>\n",
              "      <th>4</th>\n",
              "      <td>By . Daily Mail Reporter . PUBLISHED: . 12:53 ...</td>\n",
              "      <td>The Xue Long had provided the helicopter that ...</td>\n",
              "      <td>daily mail reporter published 12:53 est 3 janu...</td>\n",
              "      <td>xue long provided helicopter helped rescue \\n ...</td>\n",
              "    </tr>\n",
              "    <tr>\n",
              "      <th>...</th>\n",
              "      <td>...</td>\n",
              "      <td>...</td>\n",
              "      <td>...</td>\n",
              "      <td>...</td>\n",
              "    </tr>\n",
              "    <tr>\n",
              "      <th>1995</th>\n",
              "      <td>By . Nicola Harley . A legal firm that made mo...</td>\n",
              "      <td>Insult came in a training manual Raleys Solici...</td>\n",
              "      <td>nicola harley legal firm £ 77 million miners c...</td>\n",
              "      <td>insult came training manual raleys solicitors ...</td>\n",
              "    </tr>\n",
              "    <tr>\n",
              "      <th>1996</th>\n",
              "      <td>The average interest rate on an easy-access IS...</td>\n",
              "      <td>It is the lowest average rate since MoneyFacts...</td>\n",
              "      <td>average interest rate easy access isa account ...</td>\n",
              "      <td>lowest average rate moneyfacts began keeping r...</td>\n",
              "    </tr>\n",
              "    <tr>\n",
              "      <th>1997</th>\n",
              "      <td>(CNN) -- There are plenty of reasons to fall i...</td>\n",
              "      <td>Staircases are important elements in home deco...</td>\n",
              "      <td>cnn plenty reasons fall love staircase home co...</td>\n",
              "      <td>staircases important elements home decor famil...</td>\n",
              "    </tr>\n",
              "    <tr>\n",
              "      <th>1998</th>\n",
              "      <td>By . Steve Robson . PUBLISHED: . 01:29 EST, 25...</td>\n",
              "      <td>Victor Ponta says he is 'rather perplexed' by ...</td>\n",
              "      <td>steve robson published 01:29 est 25 february 2...</td>\n",
              "      <td>victor ponta says perplexed reports romanian i...</td>\n",
              "    </tr>\n",
              "    <tr>\n",
              "      <th>1999</th>\n",
              "      <td>By . Steve Nolan . PUBLISHED: . 11:41 EST, 24 ...</td>\n",
              "      <td>Elleanor Bennett died 27 hours after her birth...</td>\n",
              "      <td>steve nolan published 11:41 est 24 september 2...</td>\n",
              "      <td>elleanor bennett died 27 hours birth february ...</td>\n",
              "    </tr>\n",
              "  </tbody>\n",
              "</table>\n",
              "<p>2000 rows × 4 columns</p>\n",
              "</div>"
            ],
            "text/plain": [
              "                                                article  \\\n",
              "0     By . Mia De Graaf . Britons flocked to beaches...   \n",
              "1     A couple who weighed a combined 32st were sham...   \n",
              "2     Video footage shows the heart stopping moment ...   \n",
              "3     Istanbul, Turkey (CNN) -- About 250 people rac...   \n",
              "4     By . Daily Mail Reporter . PUBLISHED: . 12:53 ...   \n",
              "...                                                 ...   \n",
              "1995  By . Nicola Harley . A legal firm that made mo...   \n",
              "1996  The average interest rate on an easy-access IS...   \n",
              "1997  (CNN) -- There are plenty of reasons to fall i...   \n",
              "1998  By . Steve Robson . PUBLISHED: . 01:29 EST, 25...   \n",
              "1999  By . Steve Nolan . PUBLISHED: . 11:41 EST, 24 ...   \n",
              "\n",
              "                                             highlights  \\\n",
              "0     People enjoyed temperatures of 17C at Brighton...   \n",
              "1     Couple started piling on pounds after the birt...   \n",
              "2     A 17-year-old boy suffering lacerations to his...   \n",
              "3     Syrians citizens hightail it to Turkey .\\nMost...   \n",
              "4     The Xue Long had provided the helicopter that ...   \n",
              "...                                                 ...   \n",
              "1995  Insult came in a training manual Raleys Solici...   \n",
              "1996  It is the lowest average rate since MoneyFacts...   \n",
              "1997  Staircases are important elements in home deco...   \n",
              "1998  Victor Ponta says he is 'rather perplexed' by ...   \n",
              "1999  Elleanor Bennett died 27 hours after her birth...   \n",
              "\n",
              "                                          clean_article  \\\n",
              "0     mia de graaf britons flocked beaches southern ...   \n",
              "1     couple weighed combined 32st shamed slimming f...   \n",
              "2     video footage shows heart stopping moment 17 y...   \n",
              "3     istanbul turkey cnn 250 people raced syrian bo...   \n",
              "4     daily mail reporter published 12:53 est 3 janu...   \n",
              "...                                                 ...   \n",
              "1995  nicola harley legal firm £ 77 million miners c...   \n",
              "1996  average interest rate easy access isa account ...   \n",
              "1997  cnn plenty reasons fall love staircase home co...   \n",
              "1998  steve robson published 01:29 est 25 february 2...   \n",
              "1999  steve nolan published 11:41 est 24 september 2...   \n",
              "\n",
              "                                       clean_highlights  \n",
              "0     people enjoyed temperatures 17c brighton beach...  \n",
              "1     couple started piling pounds birth children \\n...  \n",
              "2     17 year old boy suffering lacerations left han...  \n",
              "3     syrians citizens hightail turkey \\n ethnic tur...  \n",
              "4     xue long provided helicopter helped rescue \\n ...  \n",
              "...                                                 ...  \n",
              "1995  insult came training manual raleys solicitors ...  \n",
              "1996  lowest average rate moneyfacts began keeping r...  \n",
              "1997  staircases important elements home decor famil...  \n",
              "1998  victor ponta says perplexed reports romanian i...  \n",
              "1999  elleanor bennett died 27 hours birth february ...  \n",
              "\n",
              "[2000 rows x 4 columns]"
            ]
          },
          "execution_count": 13,
          "metadata": {},
          "output_type": "execute_result"
        }
      ],
      "source": [
        "new_train_df"
      ]
    },
    {
      "cell_type": "markdown",
      "metadata": {
        "id": "byaCwz7d4viK"
      },
      "source": [
        "### We will run this cell if we have time"
      ]
    },
    {
      "cell_type": "code",
      "execution_count": 14,
      "metadata": {
        "id": "QvErg-rg4viK",
        "trusted": true
      },
      "outputs": [
        {
          "data": {
            "text/html": [
              "<div>\n",
              "<style scoped>\n",
              "    .dataframe tbody tr th:only-of-type {\n",
              "        vertical-align: middle;\n",
              "    }\n",
              "\n",
              "    .dataframe tbody tr th {\n",
              "        vertical-align: top;\n",
              "    }\n",
              "\n",
              "    .dataframe thead th {\n",
              "        text-align: right;\n",
              "    }\n",
              "</style>\n",
              "<table border=\"1\" class=\"dataframe\">\n",
              "  <thead>\n",
              "    <tr style=\"text-align: right;\">\n",
              "      <th></th>\n",
              "      <th>article</th>\n",
              "      <th>highlights</th>\n",
              "    </tr>\n",
              "  </thead>\n",
              "  <tbody>\n",
              "    <tr>\n",
              "      <th>0</th>\n",
              "      <td>Ever noticed how plane seats appear to be gett...</td>\n",
              "      <td>Experts question if  packed out planes are put...</td>\n",
              "    </tr>\n",
              "    <tr>\n",
              "      <th>1</th>\n",
              "      <td>A drunk teenage boy had to be rescued by secur...</td>\n",
              "      <td>Drunk teenage boy climbed into lion enclosure ...</td>\n",
              "    </tr>\n",
              "    <tr>\n",
              "      <th>2</th>\n",
              "      <td>Dougie Freedman is on the verge of agreeing a ...</td>\n",
              "      <td>Nottingham Forest are close to extending Dougi...</td>\n",
              "    </tr>\n",
              "    <tr>\n",
              "      <th>3</th>\n",
              "      <td>Liverpool target Neto is also wanted by PSG an...</td>\n",
              "      <td>Fiorentina goalkeeper Neto has been linked wit...</td>\n",
              "    </tr>\n",
              "    <tr>\n",
              "      <th>4</th>\n",
              "      <td>Bruce Jenner will break his silence in a two-h...</td>\n",
              "      <td>Tell-all interview with the reality TV star, 6...</td>\n",
              "    </tr>\n",
              "    <tr>\n",
              "      <th>...</th>\n",
              "      <td>...</td>\n",
              "      <td>...</td>\n",
              "    </tr>\n",
              "    <tr>\n",
              "      <th>1995</th>\n",
              "      <td>Francois Hollande has vowed to 'show no mercy'...</td>\n",
              "      <td>14 soldiers have been accused of abusing child...</td>\n",
              "    </tr>\n",
              "    <tr>\n",
              "      <th>1996</th>\n",
              "      <td>A holidaymaker still has sickness issues, nine...</td>\n",
              "      <td>James Houlder and girlfriend Vicki Hood stayed...</td>\n",
              "    </tr>\n",
              "    <tr>\n",
              "      <th>1997</th>\n",
              "      <td>Jordon Ibe is poised to sign a new five-year c...</td>\n",
              "      <td>Jordon Ibe will sign a new five-year contract ...</td>\n",
              "    </tr>\n",
              "    <tr>\n",
              "      <th>1998</th>\n",
              "      <td>Paraded in a glass coffin and flanked by jostl...</td>\n",
              "      <td>Iraqi officials say Izzat Ibrahim al-Douri, 72...</td>\n",
              "    </tr>\n",
              "    <tr>\n",
              "      <th>1999</th>\n",
              "      <td>Don't be fooled, Arsene. Don’t be caught out b...</td>\n",
              "      <td>It is not unusual to see Arsenal finish the se...</td>\n",
              "    </tr>\n",
              "  </tbody>\n",
              "</table>\n",
              "<p>2000 rows × 2 columns</p>\n",
              "</div>"
            ],
            "text/plain": [
              "                                                article  \\\n",
              "0     Ever noticed how plane seats appear to be gett...   \n",
              "1     A drunk teenage boy had to be rescued by secur...   \n",
              "2     Dougie Freedman is on the verge of agreeing a ...   \n",
              "3     Liverpool target Neto is also wanted by PSG an...   \n",
              "4     Bruce Jenner will break his silence in a two-h...   \n",
              "...                                                 ...   \n",
              "1995  Francois Hollande has vowed to 'show no mercy'...   \n",
              "1996  A holidaymaker still has sickness issues, nine...   \n",
              "1997  Jordon Ibe is poised to sign a new five-year c...   \n",
              "1998  Paraded in a glass coffin and flanked by jostl...   \n",
              "1999  Don't be fooled, Arsene. Don’t be caught out b...   \n",
              "\n",
              "                                             highlights  \n",
              "0     Experts question if  packed out planes are put...  \n",
              "1     Drunk teenage boy climbed into lion enclosure ...  \n",
              "2     Nottingham Forest are close to extending Dougi...  \n",
              "3     Fiorentina goalkeeper Neto has been linked wit...  \n",
              "4     Tell-all interview with the reality TV star, 6...  \n",
              "...                                                 ...  \n",
              "1995  14 soldiers have been accused of abusing child...  \n",
              "1996  James Houlder and girlfriend Vicki Hood stayed...  \n",
              "1997  Jordon Ibe will sign a new five-year contract ...  \n",
              "1998  Iraqi officials say Izzat Ibrahim al-Douri, 72...  \n",
              "1999  It is not unusual to see Arsenal finish the se...  \n",
              "\n",
              "[2000 rows x 2 columns]"
            ]
          },
          "execution_count": 14,
          "metadata": {},
          "output_type": "execute_result"
        }
      ],
      "source": [
        "new_test_df = test_df[:2000]\n",
        "new_test_df"
      ]
    },
    {
      "cell_type": "code",
      "execution_count": 15,
      "metadata": {
        "id": "6S14JAxm4viK",
        "trusted": true
      },
      "outputs": [],
      "source": [
        "# new_test_df[\"clean_article\"] = new_test_df['article'].apply(clean_text)\n",
        "# new_test_df[\"clean_highlights\"] = new_test_df['highlights'].apply(clean_text)"
      ]
    },
    {
      "cell_type": "code",
      "execution_count": 16,
      "metadata": {
        "id": "DFp7wddW4viL",
        "trusted": true
      },
      "outputs": [
        {
          "data": {
            "text/html": [
              "<div>\n",
              "<style scoped>\n",
              "    .dataframe tbody tr th:only-of-type {\n",
              "        vertical-align: middle;\n",
              "    }\n",
              "\n",
              "    .dataframe tbody tr th {\n",
              "        vertical-align: top;\n",
              "    }\n",
              "\n",
              "    .dataframe thead th {\n",
              "        text-align: right;\n",
              "    }\n",
              "</style>\n",
              "<table border=\"1\" class=\"dataframe\">\n",
              "  <thead>\n",
              "    <tr style=\"text-align: right;\">\n",
              "      <th></th>\n",
              "      <th>article</th>\n",
              "      <th>highlights</th>\n",
              "    </tr>\n",
              "  </thead>\n",
              "  <tbody>\n",
              "    <tr>\n",
              "      <th>0</th>\n",
              "      <td>Ever noticed how plane seats appear to be gett...</td>\n",
              "      <td>Experts question if  packed out planes are put...</td>\n",
              "    </tr>\n",
              "    <tr>\n",
              "      <th>1</th>\n",
              "      <td>A drunk teenage boy had to be rescued by secur...</td>\n",
              "      <td>Drunk teenage boy climbed into lion enclosure ...</td>\n",
              "    </tr>\n",
              "    <tr>\n",
              "      <th>2</th>\n",
              "      <td>Dougie Freedman is on the verge of agreeing a ...</td>\n",
              "      <td>Nottingham Forest are close to extending Dougi...</td>\n",
              "    </tr>\n",
              "    <tr>\n",
              "      <th>3</th>\n",
              "      <td>Liverpool target Neto is also wanted by PSG an...</td>\n",
              "      <td>Fiorentina goalkeeper Neto has been linked wit...</td>\n",
              "    </tr>\n",
              "    <tr>\n",
              "      <th>4</th>\n",
              "      <td>Bruce Jenner will break his silence in a two-h...</td>\n",
              "      <td>Tell-all interview with the reality TV star, 6...</td>\n",
              "    </tr>\n",
              "  </tbody>\n",
              "</table>\n",
              "</div>"
            ],
            "text/plain": [
              "                                             article  \\\n",
              "0  Ever noticed how plane seats appear to be gett...   \n",
              "1  A drunk teenage boy had to be rescued by secur...   \n",
              "2  Dougie Freedman is on the verge of agreeing a ...   \n",
              "3  Liverpool target Neto is also wanted by PSG an...   \n",
              "4  Bruce Jenner will break his silence in a two-h...   \n",
              "\n",
              "                                          highlights  \n",
              "0  Experts question if  packed out planes are put...  \n",
              "1  Drunk teenage boy climbed into lion enclosure ...  \n",
              "2  Nottingham Forest are close to extending Dougi...  \n",
              "3  Fiorentina goalkeeper Neto has been linked wit...  \n",
              "4  Tell-all interview with the reality TV star, 6...  "
            ]
          },
          "execution_count": 16,
          "metadata": {},
          "output_type": "execute_result"
        }
      ],
      "source": [
        "test_df.head()"
      ]
    },
    {
      "cell_type": "code",
      "execution_count": 17,
      "metadata": {
        "id": "nb4KK9jP4viL",
        "trusted": true
      },
      "outputs": [
        {
          "name": "stderr",
          "output_type": "stream",
          "text": [
            "C:\\Users\\acer\\AppData\\Local\\Temp\\ipykernel_20636\\4164932316.py:1: SettingWithCopyWarning: \n",
            "A value is trying to be set on a copy of a slice from a DataFrame.\n",
            "Try using .loc[row_indexer,col_indexer] = value instead\n",
            "\n",
            "See the caveats in the documentation: https://pandas.pydata.org/pandas-docs/stable/user_guide/indexing.html#returning-a-view-versus-a-copy\n",
            "  new_train_df['clean_highlights'] = new_train_df['clean_highlights'].apply(lambda x: '<Start>' + ' ' + x + ' ' + '<END>')\n"
          ]
        }
      ],
      "source": [
        "new_train_df['clean_highlights'] = new_train_df['clean_highlights'].apply(lambda x: '<Start>' + ' ' + x + ' ' + '<END>')"
      ]
    },
    {
      "cell_type": "code",
      "execution_count": 18,
      "metadata": {
        "id": "zPgvexED4viL",
        "trusted": true
      },
      "outputs": [
        {
          "data": {
            "text/html": [
              "<div>\n",
              "<style scoped>\n",
              "    .dataframe tbody tr th:only-of-type {\n",
              "        vertical-align: middle;\n",
              "    }\n",
              "\n",
              "    .dataframe tbody tr th {\n",
              "        vertical-align: top;\n",
              "    }\n",
              "\n",
              "    .dataframe thead th {\n",
              "        text-align: right;\n",
              "    }\n",
              "</style>\n",
              "<table border=\"1\" class=\"dataframe\">\n",
              "  <thead>\n",
              "    <tr style=\"text-align: right;\">\n",
              "      <th></th>\n",
              "      <th>article</th>\n",
              "      <th>highlights</th>\n",
              "      <th>clean_article</th>\n",
              "      <th>clean_highlights</th>\n",
              "    </tr>\n",
              "  </thead>\n",
              "  <tbody>\n",
              "    <tr>\n",
              "      <th>0</th>\n",
              "      <td>By . Mia De Graaf . Britons flocked to beaches...</td>\n",
              "      <td>People enjoyed temperatures of 17C at Brighton...</td>\n",
              "      <td>mia de graaf britons flocked beaches southern ...</td>\n",
              "      <td>&lt;Start&gt; people enjoyed temperatures 17c bright...</td>\n",
              "    </tr>\n",
              "    <tr>\n",
              "      <th>1</th>\n",
              "      <td>A couple who weighed a combined 32st were sham...</td>\n",
              "      <td>Couple started piling on pounds after the birt...</td>\n",
              "      <td>couple weighed combined 32st shamed slimming f...</td>\n",
              "      <td>&lt;Start&gt; couple started piling pounds birth chi...</td>\n",
              "    </tr>\n",
              "    <tr>\n",
              "      <th>2</th>\n",
              "      <td>Video footage shows the heart stopping moment ...</td>\n",
              "      <td>A 17-year-old boy suffering lacerations to his...</td>\n",
              "      <td>video footage shows heart stopping moment 17 y...</td>\n",
              "      <td>&lt;Start&gt; 17 year old boy suffering lacerations ...</td>\n",
              "    </tr>\n",
              "    <tr>\n",
              "      <th>3</th>\n",
              "      <td>Istanbul, Turkey (CNN) -- About 250 people rac...</td>\n",
              "      <td>Syrians citizens hightail it to Turkey .\\nMost...</td>\n",
              "      <td>istanbul turkey cnn 250 people raced syrian bo...</td>\n",
              "      <td>&lt;Start&gt; syrians citizens hightail turkey \\n et...</td>\n",
              "    </tr>\n",
              "    <tr>\n",
              "      <th>4</th>\n",
              "      <td>By . Daily Mail Reporter . PUBLISHED: . 12:53 ...</td>\n",
              "      <td>The Xue Long had provided the helicopter that ...</td>\n",
              "      <td>daily mail reporter published 12:53 est 3 janu...</td>\n",
              "      <td>&lt;Start&gt; xue long provided helicopter helped re...</td>\n",
              "    </tr>\n",
              "    <tr>\n",
              "      <th>...</th>\n",
              "      <td>...</td>\n",
              "      <td>...</td>\n",
              "      <td>...</td>\n",
              "      <td>...</td>\n",
              "    </tr>\n",
              "    <tr>\n",
              "      <th>1995</th>\n",
              "      <td>By . Nicola Harley . A legal firm that made mo...</td>\n",
              "      <td>Insult came in a training manual Raleys Solici...</td>\n",
              "      <td>nicola harley legal firm £ 77 million miners c...</td>\n",
              "      <td>&lt;Start&gt; insult came training manual raleys sol...</td>\n",
              "    </tr>\n",
              "    <tr>\n",
              "      <th>1996</th>\n",
              "      <td>The average interest rate on an easy-access IS...</td>\n",
              "      <td>It is the lowest average rate since MoneyFacts...</td>\n",
              "      <td>average interest rate easy access isa account ...</td>\n",
              "      <td>&lt;Start&gt; lowest average rate moneyfacts began k...</td>\n",
              "    </tr>\n",
              "    <tr>\n",
              "      <th>1997</th>\n",
              "      <td>(CNN) -- There are plenty of reasons to fall i...</td>\n",
              "      <td>Staircases are important elements in home deco...</td>\n",
              "      <td>cnn plenty reasons fall love staircase home co...</td>\n",
              "      <td>&lt;Start&gt; staircases important elements home dec...</td>\n",
              "    </tr>\n",
              "    <tr>\n",
              "      <th>1998</th>\n",
              "      <td>By . Steve Robson . PUBLISHED: . 01:29 EST, 25...</td>\n",
              "      <td>Victor Ponta says he is 'rather perplexed' by ...</td>\n",
              "      <td>steve robson published 01:29 est 25 february 2...</td>\n",
              "      <td>&lt;Start&gt; victor ponta says perplexed reports ro...</td>\n",
              "    </tr>\n",
              "    <tr>\n",
              "      <th>1999</th>\n",
              "      <td>By . Steve Nolan . PUBLISHED: . 11:41 EST, 24 ...</td>\n",
              "      <td>Elleanor Bennett died 27 hours after her birth...</td>\n",
              "      <td>steve nolan published 11:41 est 24 september 2...</td>\n",
              "      <td>&lt;Start&gt; elleanor bennett died 27 hours birth f...</td>\n",
              "    </tr>\n",
              "  </tbody>\n",
              "</table>\n",
              "<p>2000 rows × 4 columns</p>\n",
              "</div>"
            ],
            "text/plain": [
              "                                                article  \\\n",
              "0     By . Mia De Graaf . Britons flocked to beaches...   \n",
              "1     A couple who weighed a combined 32st were sham...   \n",
              "2     Video footage shows the heart stopping moment ...   \n",
              "3     Istanbul, Turkey (CNN) -- About 250 people rac...   \n",
              "4     By . Daily Mail Reporter . PUBLISHED: . 12:53 ...   \n",
              "...                                                 ...   \n",
              "1995  By . Nicola Harley . A legal firm that made mo...   \n",
              "1996  The average interest rate on an easy-access IS...   \n",
              "1997  (CNN) -- There are plenty of reasons to fall i...   \n",
              "1998  By . Steve Robson . PUBLISHED: . 01:29 EST, 25...   \n",
              "1999  By . Steve Nolan . PUBLISHED: . 11:41 EST, 24 ...   \n",
              "\n",
              "                                             highlights  \\\n",
              "0     People enjoyed temperatures of 17C at Brighton...   \n",
              "1     Couple started piling on pounds after the birt...   \n",
              "2     A 17-year-old boy suffering lacerations to his...   \n",
              "3     Syrians citizens hightail it to Turkey .\\nMost...   \n",
              "4     The Xue Long had provided the helicopter that ...   \n",
              "...                                                 ...   \n",
              "1995  Insult came in a training manual Raleys Solici...   \n",
              "1996  It is the lowest average rate since MoneyFacts...   \n",
              "1997  Staircases are important elements in home deco...   \n",
              "1998  Victor Ponta says he is 'rather perplexed' by ...   \n",
              "1999  Elleanor Bennett died 27 hours after her birth...   \n",
              "\n",
              "                                          clean_article  \\\n",
              "0     mia de graaf britons flocked beaches southern ...   \n",
              "1     couple weighed combined 32st shamed slimming f...   \n",
              "2     video footage shows heart stopping moment 17 y...   \n",
              "3     istanbul turkey cnn 250 people raced syrian bo...   \n",
              "4     daily mail reporter published 12:53 est 3 janu...   \n",
              "...                                                 ...   \n",
              "1995  nicola harley legal firm £ 77 million miners c...   \n",
              "1996  average interest rate easy access isa account ...   \n",
              "1997  cnn plenty reasons fall love staircase home co...   \n",
              "1998  steve robson published 01:29 est 25 february 2...   \n",
              "1999  steve nolan published 11:41 est 24 september 2...   \n",
              "\n",
              "                                       clean_highlights  \n",
              "0     <Start> people enjoyed temperatures 17c bright...  \n",
              "1     <Start> couple started piling pounds birth chi...  \n",
              "2     <Start> 17 year old boy suffering lacerations ...  \n",
              "3     <Start> syrians citizens hightail turkey \\n et...  \n",
              "4     <Start> xue long provided helicopter helped re...  \n",
              "...                                                 ...  \n",
              "1995  <Start> insult came training manual raleys sol...  \n",
              "1996  <Start> lowest average rate moneyfacts began k...  \n",
              "1997  <Start> staircases important elements home dec...  \n",
              "1998  <Start> victor ponta says perplexed reports ro...  \n",
              "1999  <Start> elleanor bennett died 27 hours birth f...  \n",
              "\n",
              "[2000 rows x 4 columns]"
            ]
          },
          "execution_count": 18,
          "metadata": {},
          "output_type": "execute_result"
        }
      ],
      "source": [
        "new_train_df"
      ]
    },
    {
      "cell_type": "markdown",
      "metadata": {
        "id": "gT9j1MHi4viL"
      },
      "source": [
        "# SPLITTING"
      ]
    },
    {
      "cell_type": "code",
      "execution_count": 19,
      "metadata": {
        "id": "5tG2tjlu4viL",
        "trusted": true
      },
      "outputs": [],
      "source": [
        "X = new_train_df['clean_article'].values\n",
        "y = new_train_df['clean_highlights'].values"
      ]
    },
    {
      "cell_type": "code",
      "execution_count": null,
      "metadata": {
        "id": "UpKWcd144viL"
      },
      "outputs": [],
      "source": []
    },
    {
      "cell_type": "markdown",
      "metadata": {
        "id": "pRVPhH0Q4viL"
      },
      "source": [
        "# Text Tokenization"
      ]
    },
    {
      "cell_type": "code",
      "execution_count": 20,
      "metadata": {
        "id": "V8dNc6MF4viL",
        "trusted": true
      },
      "outputs": [],
      "source": [
        "from tensorflow.keras.preprocessing.sequence import pad_sequences\n",
        "from tensorflow.keras.preprocessing.text import Tokenizer"
      ]
    },
    {
      "cell_type": "markdown",
      "metadata": {
        "id": "EkLxYXip4viM"
      },
      "source": []
    },
    {
      "cell_type": "code",
      "execution_count": 21,
      "metadata": {
        "id": "tcbng0Kk4viM",
        "trusted": true
      },
      "outputs": [],
      "source": [
        "\n",
        "atricle_tokenizer = Tokenizer(num_words=2000, oov_token=\"<unk>\")\n",
        "atricle_tokenizer.fit_on_texts(X)\n",
        "input_sequences = atricle_tokenizer.texts_to_sequences(X)\n",
        "\n",
        "# View the tokenized articles\n",
        "# print(\"Word Index: \", atricle_tokenizer.word_index)  # The word-index mapping\n",
        "# print(\"Sequences: \", input_sequences[:3])  # The tokenized form (sequence of word indices)"
      ]
    },
    {
      "cell_type": "code",
      "execution_count": 22,
      "metadata": {
        "id": "tLCBhttj4viM",
        "trusted": true
      },
      "outputs": [],
      "source": [
        "\n",
        "highlights_tokenizer = Tokenizer(num_words=2000, oov_token=\"<unk>\")\n",
        "highlights_tokenizer.fit_on_texts(y)\n",
        "output_sequences = highlights_tokenizer.texts_to_sequences(y)\n",
        "\n",
        "# View the tokenized articles\n",
        "# print(\"Word Index: \", highlights_tokenizer.word_index)  # The word-index mapping\n",
        "# print(\"Sequences: \", input_sequences[:3])  # The tokenized form (sequence of word indices)"
      ]
    },
    {
      "cell_type": "code",
      "execution_count": 23,
      "metadata": {
        "id": "aluN72Sd4viM",
        "trusted": true
      },
      "outputs": [],
      "source": [
        "max_article_len = max(len(i) for i in X)\n",
        "max_summary_len = max(len(i) for i in y)\n",
        "encoder_input_size = len(atricle_tokenizer.word_index) + 1\n",
        "decoder_input_size = len(highlights_tokenizer.word_index) + 1\n"
      ]
    },
    {
      "cell_type": "code",
      "execution_count": 24,
      "metadata": {
        "id": "5Uy3quOQ4viM",
        "trusted": true
      },
      "outputs": [
        {
          "name": "stdout",
          "output_type": "stream",
          "text": [
            "(2000,)\n"
          ]
        }
      ],
      "source": [
        "# Pad the sequences\n",
        "max_vocab_size_en = 2000\n",
        "X_padded = pad_sequences(input_sequences, maxlen=2000)\n",
        "print(X_padded[0].shape)"
      ]
    },
    {
      "cell_type": "code",
      "execution_count": 25,
      "metadata": {
        "id": "Lol9D9qG4viM",
        "trusted": true
      },
      "outputs": [
        {
          "name": "stdout",
          "output_type": "stream",
          "text": [
            "(1154,)\n"
          ]
        }
      ],
      "source": [
        "# Pad the sequences\n",
        "# max_vocab_size = 200\n",
        "y_padded = pad_sequences(output_sequences, maxlen=max_summary_len)\n",
        "print(y_padded[0].shape)\n"
      ]
    },
    {
      "cell_type": "markdown",
      "metadata": {
        "id": "VMBrCXgp4viM"
      },
      "source": [
        "#  Model"
      ]
    },
    {
      "cell_type": "code",
      "execution_count": 26,
      "metadata": {
        "id": "xsQAOsir4viN",
        "trusted": true
      },
      "outputs": [],
      "source": [
        "#Importing\n",
        "from keras.layers import LSTM, Input, TimeDistributed, Dense, Activation, RepeatVector, Embedding, LayerNormalization, MultiHeadAttention, Add, Bidirectional, Concatenate\n",
        "from tensorflow.keras.models import Sequential\n",
        "from tensorflow.keras.preprocessing.text import one_hot\n",
        "from keras.callbacks import EarlyStopping\n",
        "from tensorflow import keras\n",
        "from tensorflow.keras import layers\n",
        "from tensorflow.keras.models import Model"
      ]
    },
    {
      "cell_type": "code",
      "execution_count": 27,
      "metadata": {
        "id": "Mv87hlbB4viR",
        "trusted": true
      },
      "outputs": [],
      "source": [
        "from sklearn.model_selection import train_test_split\n",
        "\n",
        "padded_train_sequences_en, padded_val_sequences_en, padded_train_sequences_de, padded_val_sequences_de = train_test_split(\n",
        "    X_padded,\n",
        "    y_padded,\n",
        "    test_size=0.2,\n",
        "    random_state=42\n",
        ")"
      ]
    },
    {
      "cell_type": "code",
      "execution_count": 28,
      "metadata": {
        "id": "nVOWr48L4viR",
        "trusted": true
      },
      "outputs": [
        {
          "name": "stdout",
          "output_type": "stream",
          "text": [
            "(1600, 2000)\n",
            "(1600, 1154)\n",
            "(400, 2000)\n",
            "(400, 1154)\n"
          ]
        }
      ],
      "source": [
        "print(padded_train_sequences_en.shape)  # Should be (num_samples, 1000)\n",
        "print(padded_train_sequences_de.shape)  # Should be (num_samples, 1000)\n",
        "print(padded_val_sequences_en.shape)     # Should be (num_samples, 1000)\n",
        "print(padded_val_sequences_de.shape)     # Should be (num_samples, 1000)\n"
      ]
    },
    {
      "cell_type": "code",
      "execution_count": 29,
      "metadata": {
        "id": "i73bp01U4viR",
        "trusted": true
      },
      "outputs": [
        {
          "data": {
            "text/html": [
              "<pre style=\"white-space:pre;overflow-x:auto;line-height:normal;font-family:Menlo,'DejaVu Sans Mono',consolas,'Courier New',monospace\"><span style=\"font-weight: bold\">Model: \"functional\"</span>\n",
              "</pre>\n"
            ],
            "text/plain": [
              "\u001b[1mModel: \"functional\"\u001b[0m\n"
            ]
          },
          "metadata": {},
          "output_type": "display_data"
        },
        {
          "data": {
            "text/html": [
              "<pre style=\"white-space:pre;overflow-x:auto;line-height:normal;font-family:Menlo,'DejaVu Sans Mono',consolas,'Courier New',monospace\">┏━━━━━━━━━━━━━━━━━━━━━┳━━━━━━━━━━━━━━━━━━━┳━━━━━━━━━━━━┳━━━━━━━━━━━━━━━━━━━┓\n",
              "┃<span style=\"font-weight: bold\"> Layer (type)        </span>┃<span style=\"font-weight: bold\"> Output Shape      </span>┃<span style=\"font-weight: bold\">    Param # </span>┃<span style=\"font-weight: bold\"> Connected to      </span>┃\n",
              "┡━━━━━━━━━━━━━━━━━━━━━╇━━━━━━━━━━━━━━━━━━━╇━━━━━━━━━━━━╇━━━━━━━━━━━━━━━━━━━┩\n",
              "│ input_layer         │ (<span style=\"color: #00d7ff; text-decoration-color: #00d7ff\">None</span>, <span style=\"color: #00af00; text-decoration-color: #00af00\">2000</span>)      │          <span style=\"color: #00af00; text-decoration-color: #00af00\">0</span> │ -                 │\n",
              "│ (<span style=\"color: #0087ff; text-decoration-color: #0087ff\">InputLayer</span>)        │                   │            │                   │\n",
              "├─────────────────────┼───────────────────┼────────────┼───────────────────┤\n",
              "│ input_layer_1       │ (<span style=\"color: #00d7ff; text-decoration-color: #00d7ff\">None</span>, <span style=\"color: #00af00; text-decoration-color: #00af00\">1154</span>)      │          <span style=\"color: #00af00; text-decoration-color: #00af00\">0</span> │ -                 │\n",
              "│ (<span style=\"color: #0087ff; text-decoration-color: #0087ff\">InputLayer</span>)        │                   │            │                   │\n",
              "├─────────────────────┼───────────────────┼────────────┼───────────────────┤\n",
              "│ embedding           │ (<span style=\"color: #00d7ff; text-decoration-color: #00d7ff\">None</span>, <span style=\"color: #00af00; text-decoration-color: #00af00\">2000</span>, <span style=\"color: #00af00; text-decoration-color: #00af00\">128</span>) │  <span style=\"color: #00af00; text-decoration-color: #00af00\">5,814,400</span> │ input_layer[<span style=\"color: #00af00; text-decoration-color: #00af00\">0</span>][<span style=\"color: #00af00; text-decoration-color: #00af00\">0</span>] │\n",
              "│ (<span style=\"color: #0087ff; text-decoration-color: #0087ff\">Embedding</span>)         │                   │            │                   │\n",
              "├─────────────────────┼───────────────────┼────────────┼───────────────────┤\n",
              "│ embedding_1         │ (<span style=\"color: #00d7ff; text-decoration-color: #00d7ff\">None</span>, <span style=\"color: #00af00; text-decoration-color: #00af00\">1154</span>, <span style=\"color: #00af00; text-decoration-color: #00af00\">128</span>) │  <span style=\"color: #00af00; text-decoration-color: #00af00\">1,913,472</span> │ input_layer_1[<span style=\"color: #00af00; text-decoration-color: #00af00\">0</span>]… │\n",
              "│ (<span style=\"color: #0087ff; text-decoration-color: #0087ff\">Embedding</span>)         │                   │            │                   │\n",
              "├─────────────────────┼───────────────────┼────────────┼───────────────────┤\n",
              "│ bidirectional       │ (<span style=\"color: #00d7ff; text-decoration-color: #00d7ff\">None</span>, <span style=\"color: #00af00; text-decoration-color: #00af00\">2000</span>, <span style=\"color: #00af00; text-decoration-color: #00af00\">128</span>) │     <span style=\"color: #00af00; text-decoration-color: #00af00\">98,816</span> │ embedding[<span style=\"color: #00af00; text-decoration-color: #00af00\">0</span>][<span style=\"color: #00af00; text-decoration-color: #00af00\">0</span>]   │\n",
              "│ (<span style=\"color: #0087ff; text-decoration-color: #0087ff\">Bidirectional</span>)     │                   │            │                   │\n",
              "├─────────────────────┼───────────────────┼────────────┼───────────────────┤\n",
              "│ lstm_1 (<span style=\"color: #0087ff; text-decoration-color: #0087ff\">LSTM</span>)       │ (<span style=\"color: #00d7ff; text-decoration-color: #00d7ff\">None</span>, <span style=\"color: #00af00; text-decoration-color: #00af00\">1154</span>, <span style=\"color: #00af00; text-decoration-color: #00af00\">128</span>) │    <span style=\"color: #00af00; text-decoration-color: #00af00\">131,584</span> │ embedding_1[<span style=\"color: #00af00; text-decoration-color: #00af00\">0</span>][<span style=\"color: #00af00; text-decoration-color: #00af00\">0</span>] │\n",
              "├─────────────────────┼───────────────────┼────────────┼───────────────────┤\n",
              "│ dense (<span style=\"color: #0087ff; text-decoration-color: #0087ff\">Dense</span>)       │ (<span style=\"color: #00d7ff; text-decoration-color: #00d7ff\">None</span>, <span style=\"color: #00af00; text-decoration-color: #00af00\">2000</span>, <span style=\"color: #00af00; text-decoration-color: #00af00\">128</span>) │     <span style=\"color: #00af00; text-decoration-color: #00af00\">16,512</span> │ bidirectional[<span style=\"color: #00af00; text-decoration-color: #00af00\">0</span>]… │\n",
              "├─────────────────────┼───────────────────┼────────────┼───────────────────┤\n",
              "│ multi_head_attenti… │ [(<span style=\"color: #00d7ff; text-decoration-color: #00d7ff\">None</span>, <span style=\"color: #00af00; text-decoration-color: #00af00\">1154</span>,     │     <span style=\"color: #00af00; text-decoration-color: #00af00\">66,048</span> │ lstm_1[<span style=\"color: #00af00; text-decoration-color: #00af00\">0</span>][<span style=\"color: #00af00; text-decoration-color: #00af00\">0</span>],     │\n",
              "│ (<span style=\"color: #0087ff; text-decoration-color: #0087ff\">MultiHeadAttentio…</span> │ <span style=\"color: #00af00; text-decoration-color: #00af00\">128</span>), (<span style=\"color: #00d7ff; text-decoration-color: #00d7ff\">None</span>, <span style=\"color: #00af00; text-decoration-color: #00af00\">1</span>,   │            │ dense[<span style=\"color: #00af00; text-decoration-color: #00af00\">0</span>][<span style=\"color: #00af00; text-decoration-color: #00af00\">0</span>]       │\n",
              "│                     │ <span style=\"color: #00af00; text-decoration-color: #00af00\">1154</span>, <span style=\"color: #00af00; text-decoration-color: #00af00\">1154</span>)]      │            │                   │\n",
              "├─────────────────────┼───────────────────┼────────────┼───────────────────┤\n",
              "│ add (<span style=\"color: #0087ff; text-decoration-color: #0087ff\">Add</span>)           │ (<span style=\"color: #00d7ff; text-decoration-color: #00d7ff\">None</span>, <span style=\"color: #00af00; text-decoration-color: #00af00\">1154</span>, <span style=\"color: #00af00; text-decoration-color: #00af00\">128</span>) │          <span style=\"color: #00af00; text-decoration-color: #00af00\">0</span> │ lstm_1[<span style=\"color: #00af00; text-decoration-color: #00af00\">0</span>][<span style=\"color: #00af00; text-decoration-color: #00af00\">0</span>],     │\n",
              "│                     │                   │            │ multi_head_atten… │\n",
              "├─────────────────────┼───────────────────┼────────────┼───────────────────┤\n",
              "│ layer_normalization │ (<span style=\"color: #00d7ff; text-decoration-color: #00d7ff\">None</span>, <span style=\"color: #00af00; text-decoration-color: #00af00\">1154</span>, <span style=\"color: #00af00; text-decoration-color: #00af00\">128</span>) │        <span style=\"color: #00af00; text-decoration-color: #00af00\">256</span> │ add[<span style=\"color: #00af00; text-decoration-color: #00af00\">0</span>][<span style=\"color: #00af00; text-decoration-color: #00af00\">0</span>]         │\n",
              "│ (<span style=\"color: #0087ff; text-decoration-color: #0087ff\">LayerNormalizatio…</span> │                   │            │                   │\n",
              "├─────────────────────┼───────────────────┼────────────┼───────────────────┤\n",
              "│ dense_1 (<span style=\"color: #0087ff; text-decoration-color: #0087ff\">Dense</span>)     │ (<span style=\"color: #00d7ff; text-decoration-color: #00d7ff\">None</span>, <span style=\"color: #00af00; text-decoration-color: #00af00\">1154</span>,      │  <span style=\"color: #00af00; text-decoration-color: #00af00\">1,928,421</span> │ layer_normalizat… │\n",
              "│                     │ <span style=\"color: #00af00; text-decoration-color: #00af00\">14949</span>)            │            │                   │\n",
              "└─────────────────────┴───────────────────┴────────────┴───────────────────┘\n",
              "</pre>\n"
            ],
            "text/plain": [
              "┏━━━━━━━━━━━━━━━━━━━━━┳━━━━━━━━━━━━━━━━━━━┳━━━━━━━━━━━━┳━━━━━━━━━━━━━━━━━━━┓\n",
              "┃\u001b[1m \u001b[0m\u001b[1mLayer (type)       \u001b[0m\u001b[1m \u001b[0m┃\u001b[1m \u001b[0m\u001b[1mOutput Shape     \u001b[0m\u001b[1m \u001b[0m┃\u001b[1m \u001b[0m\u001b[1m   Param #\u001b[0m\u001b[1m \u001b[0m┃\u001b[1m \u001b[0m\u001b[1mConnected to     \u001b[0m\u001b[1m \u001b[0m┃\n",
              "┡━━━━━━━━━━━━━━━━━━━━━╇━━━━━━━━━━━━━━━━━━━╇━━━━━━━━━━━━╇━━━━━━━━━━━━━━━━━━━┩\n",
              "│ input_layer         │ (\u001b[38;5;45mNone\u001b[0m, \u001b[38;5;34m2000\u001b[0m)      │          \u001b[38;5;34m0\u001b[0m │ -                 │\n",
              "│ (\u001b[38;5;33mInputLayer\u001b[0m)        │                   │            │                   │\n",
              "├─────────────────────┼───────────────────┼────────────┼───────────────────┤\n",
              "│ input_layer_1       │ (\u001b[38;5;45mNone\u001b[0m, \u001b[38;5;34m1154\u001b[0m)      │          \u001b[38;5;34m0\u001b[0m │ -                 │\n",
              "│ (\u001b[38;5;33mInputLayer\u001b[0m)        │                   │            │                   │\n",
              "├─────────────────────┼───────────────────┼────────────┼───────────────────┤\n",
              "│ embedding           │ (\u001b[38;5;45mNone\u001b[0m, \u001b[38;5;34m2000\u001b[0m, \u001b[38;5;34m128\u001b[0m) │  \u001b[38;5;34m5,814,400\u001b[0m │ input_layer[\u001b[38;5;34m0\u001b[0m][\u001b[38;5;34m0\u001b[0m] │\n",
              "│ (\u001b[38;5;33mEmbedding\u001b[0m)         │                   │            │                   │\n",
              "├─────────────────────┼───────────────────┼────────────┼───────────────────┤\n",
              "│ embedding_1         │ (\u001b[38;5;45mNone\u001b[0m, \u001b[38;5;34m1154\u001b[0m, \u001b[38;5;34m128\u001b[0m) │  \u001b[38;5;34m1,913,472\u001b[0m │ input_layer_1[\u001b[38;5;34m0\u001b[0m]… │\n",
              "│ (\u001b[38;5;33mEmbedding\u001b[0m)         │                   │            │                   │\n",
              "├─────────────────────┼───────────────────┼────────────┼───────────────────┤\n",
              "│ bidirectional       │ (\u001b[38;5;45mNone\u001b[0m, \u001b[38;5;34m2000\u001b[0m, \u001b[38;5;34m128\u001b[0m) │     \u001b[38;5;34m98,816\u001b[0m │ embedding[\u001b[38;5;34m0\u001b[0m][\u001b[38;5;34m0\u001b[0m]   │\n",
              "│ (\u001b[38;5;33mBidirectional\u001b[0m)     │                   │            │                   │\n",
              "├─────────────────────┼───────────────────┼────────────┼───────────────────┤\n",
              "│ lstm_1 (\u001b[38;5;33mLSTM\u001b[0m)       │ (\u001b[38;5;45mNone\u001b[0m, \u001b[38;5;34m1154\u001b[0m, \u001b[38;5;34m128\u001b[0m) │    \u001b[38;5;34m131,584\u001b[0m │ embedding_1[\u001b[38;5;34m0\u001b[0m][\u001b[38;5;34m0\u001b[0m] │\n",
              "├─────────────────────┼───────────────────┼────────────┼───────────────────┤\n",
              "│ dense (\u001b[38;5;33mDense\u001b[0m)       │ (\u001b[38;5;45mNone\u001b[0m, \u001b[38;5;34m2000\u001b[0m, \u001b[38;5;34m128\u001b[0m) │     \u001b[38;5;34m16,512\u001b[0m │ bidirectional[\u001b[38;5;34m0\u001b[0m]… │\n",
              "├─────────────────────┼───────────────────┼────────────┼───────────────────┤\n",
              "│ multi_head_attenti… │ [(\u001b[38;5;45mNone\u001b[0m, \u001b[38;5;34m1154\u001b[0m,     │     \u001b[38;5;34m66,048\u001b[0m │ lstm_1[\u001b[38;5;34m0\u001b[0m][\u001b[38;5;34m0\u001b[0m],     │\n",
              "│ (\u001b[38;5;33mMultiHeadAttentio…\u001b[0m │ \u001b[38;5;34m128\u001b[0m), (\u001b[38;5;45mNone\u001b[0m, \u001b[38;5;34m1\u001b[0m,   │            │ dense[\u001b[38;5;34m0\u001b[0m][\u001b[38;5;34m0\u001b[0m]       │\n",
              "│                     │ \u001b[38;5;34m1154\u001b[0m, \u001b[38;5;34m1154\u001b[0m)]      │            │                   │\n",
              "├─────────────────────┼───────────────────┼────────────┼───────────────────┤\n",
              "│ add (\u001b[38;5;33mAdd\u001b[0m)           │ (\u001b[38;5;45mNone\u001b[0m, \u001b[38;5;34m1154\u001b[0m, \u001b[38;5;34m128\u001b[0m) │          \u001b[38;5;34m0\u001b[0m │ lstm_1[\u001b[38;5;34m0\u001b[0m][\u001b[38;5;34m0\u001b[0m],     │\n",
              "│                     │                   │            │ multi_head_atten… │\n",
              "├─────────────────────┼───────────────────┼────────────┼───────────────────┤\n",
              "│ layer_normalization │ (\u001b[38;5;45mNone\u001b[0m, \u001b[38;5;34m1154\u001b[0m, \u001b[38;5;34m128\u001b[0m) │        \u001b[38;5;34m256\u001b[0m │ add[\u001b[38;5;34m0\u001b[0m][\u001b[38;5;34m0\u001b[0m]         │\n",
              "│ (\u001b[38;5;33mLayerNormalizatio…\u001b[0m │                   │            │                   │\n",
              "├─────────────────────┼───────────────────┼────────────┼───────────────────┤\n",
              "│ dense_1 (\u001b[38;5;33mDense\u001b[0m)     │ (\u001b[38;5;45mNone\u001b[0m, \u001b[38;5;34m1154\u001b[0m,      │  \u001b[38;5;34m1,928,421\u001b[0m │ layer_normalizat… │\n",
              "│                     │ \u001b[38;5;34m14949\u001b[0m)            │            │                   │\n",
              "└─────────────────────┴───────────────────┴────────────┴───────────────────┘\n"
            ]
          },
          "metadata": {},
          "output_type": "display_data"
        },
        {
          "data": {
            "text/html": [
              "<pre style=\"white-space:pre;overflow-x:auto;line-height:normal;font-family:Menlo,'DejaVu Sans Mono',consolas,'Courier New',monospace\"><span style=\"font-weight: bold\"> Total params: </span><span style=\"color: #00af00; text-decoration-color: #00af00\">9,969,509</span> (38.03 MB)\n",
              "</pre>\n"
            ],
            "text/plain": [
              "\u001b[1m Total params: \u001b[0m\u001b[38;5;34m9,969,509\u001b[0m (38.03 MB)\n"
            ]
          },
          "metadata": {},
          "output_type": "display_data"
        },
        {
          "data": {
            "text/html": [
              "<pre style=\"white-space:pre;overflow-x:auto;line-height:normal;font-family:Menlo,'DejaVu Sans Mono',consolas,'Courier New',monospace\"><span style=\"font-weight: bold\"> Trainable params: </span><span style=\"color: #00af00; text-decoration-color: #00af00\">9,969,509</span> (38.03 MB)\n",
              "</pre>\n"
            ],
            "text/plain": [
              "\u001b[1m Trainable params: \u001b[0m\u001b[38;5;34m9,969,509\u001b[0m (38.03 MB)\n"
            ]
          },
          "metadata": {},
          "output_type": "display_data"
        },
        {
          "data": {
            "text/html": [
              "<pre style=\"white-space:pre;overflow-x:auto;line-height:normal;font-family:Menlo,'DejaVu Sans Mono',consolas,'Courier New',monospace\"><span style=\"font-weight: bold\"> Non-trainable params: </span><span style=\"color: #00af00; text-decoration-color: #00af00\">0</span> (0.00 B)\n",
              "</pre>\n"
            ],
            "text/plain": [
              "\u001b[1m Non-trainable params: \u001b[0m\u001b[38;5;34m0\u001b[0m (0.00 B)\n"
            ]
          },
          "metadata": {},
          "output_type": "display_data"
        }
      ],
      "source": [
        "UNITS = 128\n",
        "MAX_LEN = 200\n",
        "# encoder_input_size = 2000\n",
        "# decoder_input_size = 2000\n",
        "\n",
        "# Encoder\n",
        "encoder_inputs = Input(shape=(2000,))\n",
        "x = Embedding(encoder_input_size, UNITS)(encoder_inputs)\n",
        "encoder_outputs = Bidirectional(LSTM(UNITS//2, return_sequences=True, dropout=0.2))(x)\n",
        "\n",
        "# Use a Dense layer to match the dimensions for attention\n",
        "encoder_outputs = Dense(UNITS)(encoder_outputs)\n",
        "\n",
        "# Decoder\n",
        "decoder_inputs = Input(shape=(max_summary_len,))\n",
        "decoder_embeddings = Embedding(decoder_input_size, UNITS)(decoder_inputs)\n",
        "x = LSTM(UNITS, return_sequences=True, dropout=0.2)(decoder_embeddings)\n",
        "\n",
        "# Attention\n",
        "attention = MultiHeadAttention(num_heads=1, key_dim=UNITS, dropout=0.2)\n",
        "attention_output, attention_scores = attention(query=x, value=encoder_outputs, return_attention_scores=True)\n",
        "\n",
        "# Add & Normalize\n",
        "add = Add()\n",
        "normalization = LayerNormalization()\n",
        "\n",
        "attention_seq = add([x, attention_output])\n",
        "attention_seq = normalization(attention_seq)\n",
        "\n",
        "# Define the output\n",
        "decoder_outputs = Dense(decoder_input_size, activation='softmax')(attention_seq)\n",
        "\n",
        "# Create the model\n",
        "model = Model(inputs=[encoder_inputs, decoder_inputs], outputs=decoder_outputs)\n",
        "model.summary()"
      ]
    },
    {
      "cell_type": "code",
      "execution_count": 30,
      "metadata": {
        "id": "vBZDDKZr4viS",
        "trusted": true
      },
      "outputs": [],
      "source": [
        "model.compile(optimizer='adam',  loss='sparse_categorical_crossentropy', metrics=[\"accuracy\"])"
      ]
    },
    {
      "cell_type": "code",
      "execution_count": 31,
      "metadata": {
        "id": "rkjcj4bs4viS",
        "trusted": true
      },
      "outputs": [
        {
          "name": "stdout",
          "output_type": "stream",
          "text": [
            "Epoch 1/5\n"
          ]
        },
        {
          "name": "stderr",
          "output_type": "stream",
          "text": [
            "c:\\Users\\acer\\AppData\\Local\\Programs\\Python\\Python312\\Lib\\site-packages\\keras\\src\\models\\functional.py:225: UserWarning: The structure of `inputs` doesn't match the expected structure: ['keras_tensor', 'keras_tensor_4']. Received: the structure of inputs=('*', '*')\n",
            "  warnings.warn(\n"
          ]
        },
        {
          "name": "stdout",
          "output_type": "stream",
          "text": [
            "\u001b[1m 1/50\u001b[0m \u001b[37m━━━━━━━━━━━━━━━━━━━━\u001b[0m \u001b[1m35:32\u001b[0m 44s/step - accuracy: 0.0000e+00 - loss: 9.6010"
          ]
        },
        {
          "ename": "KeyboardInterrupt",
          "evalue": "",
          "output_type": "error",
          "traceback": [
            "\u001b[1;31m---------------------------------------------------------------------------\u001b[0m",
            "\u001b[1;31mKeyboardInterrupt\u001b[0m                         Traceback (most recent call last)",
            "Cell \u001b[1;32mIn[31], line 1\u001b[0m\n\u001b[1;32m----> 1\u001b[0m history \u001b[38;5;241m=\u001b[39m \u001b[43mmodel\u001b[49m\u001b[38;5;241;43m.\u001b[39;49m\u001b[43mfit\u001b[49m\u001b[43m(\u001b[49m\u001b[43m[\u001b[49m\u001b[43mpadded_train_sequences_en\u001b[49m\u001b[43m,\u001b[49m\u001b[43m \u001b[49m\u001b[43mpadded_train_sequences_de\u001b[49m\u001b[43m]\u001b[49m\u001b[43m,\u001b[49m\n\u001b[0;32m      2\u001b[0m \u001b[43m                    \u001b[49m\u001b[43mpadded_train_sequences_de\u001b[49m\u001b[43m,\u001b[49m\n\u001b[0;32m      3\u001b[0m \u001b[43m          \u001b[49m\u001b[43mbatch_size\u001b[49m\u001b[38;5;241;43m=\u001b[39;49m\u001b[38;5;241;43m32\u001b[39;49m\u001b[43m,\u001b[49m\n\u001b[0;32m      4\u001b[0m \u001b[43m          \u001b[49m\u001b[43mepochs\u001b[49m\u001b[38;5;241;43m=\u001b[39;49m\u001b[38;5;241;43m5\u001b[39;49m\u001b[43m,\u001b[49m\n\u001b[0;32m      5\u001b[0m \u001b[43m          \u001b[49m\u001b[43mvalidation_data\u001b[49m\u001b[38;5;241;43m=\u001b[39;49m\u001b[43m(\u001b[49m\u001b[43m[\u001b[49m\u001b[43mpadded_val_sequences_en\u001b[49m\u001b[43m,\u001b[49m\u001b[43m \u001b[49m\u001b[43mpadded_val_sequences_de\u001b[49m\u001b[43m]\u001b[49m\u001b[43m,\u001b[49m\u001b[43m \u001b[49m\u001b[43mpadded_val_sequences_de\u001b[49m\u001b[43m)\u001b[49m\n\u001b[0;32m      6\u001b[0m \u001b[43m          \u001b[49m\u001b[43m)\u001b[49m\n",
            "File \u001b[1;32mc:\\Users\\acer\\AppData\\Local\\Programs\\Python\\Python312\\Lib\\site-packages\\keras\\src\\utils\\traceback_utils.py:117\u001b[0m, in \u001b[0;36mfilter_traceback.<locals>.error_handler\u001b[1;34m(*args, **kwargs)\u001b[0m\n\u001b[0;32m    115\u001b[0m filtered_tb \u001b[38;5;241m=\u001b[39m \u001b[38;5;28;01mNone\u001b[39;00m\n\u001b[0;32m    116\u001b[0m \u001b[38;5;28;01mtry\u001b[39;00m:\n\u001b[1;32m--> 117\u001b[0m     \u001b[38;5;28;01mreturn\u001b[39;00m \u001b[43mfn\u001b[49m\u001b[43m(\u001b[49m\u001b[38;5;241;43m*\u001b[39;49m\u001b[43margs\u001b[49m\u001b[43m,\u001b[49m\u001b[43m \u001b[49m\u001b[38;5;241;43m*\u001b[39;49m\u001b[38;5;241;43m*\u001b[39;49m\u001b[43mkwargs\u001b[49m\u001b[43m)\u001b[49m\n\u001b[0;32m    118\u001b[0m \u001b[38;5;28;01mexcept\u001b[39;00m \u001b[38;5;167;01mException\u001b[39;00m \u001b[38;5;28;01mas\u001b[39;00m e:\n\u001b[0;32m    119\u001b[0m     filtered_tb \u001b[38;5;241m=\u001b[39m _process_traceback_frames(e\u001b[38;5;241m.\u001b[39m__traceback__)\n",
            "File \u001b[1;32mc:\\Users\\acer\\AppData\\Local\\Programs\\Python\\Python312\\Lib\\site-packages\\keras\\src\\backend\\tensorflow\\trainer.py:320\u001b[0m, in \u001b[0;36mTensorFlowTrainer.fit\u001b[1;34m(self, x, y, batch_size, epochs, verbose, callbacks, validation_split, validation_data, shuffle, class_weight, sample_weight, initial_epoch, steps_per_epoch, validation_steps, validation_batch_size, validation_freq)\u001b[0m\n\u001b[0;32m    318\u001b[0m \u001b[38;5;28;01mfor\u001b[39;00m step, iterator \u001b[38;5;129;01min\u001b[39;00m epoch_iterator\u001b[38;5;241m.\u001b[39menumerate_epoch():\n\u001b[0;32m    319\u001b[0m     callbacks\u001b[38;5;241m.\u001b[39mon_train_batch_begin(step)\n\u001b[1;32m--> 320\u001b[0m     logs \u001b[38;5;241m=\u001b[39m \u001b[38;5;28;43mself\u001b[39;49m\u001b[38;5;241;43m.\u001b[39;49m\u001b[43mtrain_function\u001b[49m\u001b[43m(\u001b[49m\u001b[43miterator\u001b[49m\u001b[43m)\u001b[49m\n\u001b[0;32m    321\u001b[0m     callbacks\u001b[38;5;241m.\u001b[39mon_train_batch_end(step, logs)\n\u001b[0;32m    322\u001b[0m     \u001b[38;5;28;01mif\u001b[39;00m \u001b[38;5;28mself\u001b[39m\u001b[38;5;241m.\u001b[39mstop_training:\n",
            "File \u001b[1;32mc:\\Users\\acer\\AppData\\Local\\Programs\\Python\\Python312\\Lib\\site-packages\\tensorflow\\python\\util\\traceback_utils.py:150\u001b[0m, in \u001b[0;36mfilter_traceback.<locals>.error_handler\u001b[1;34m(*args, **kwargs)\u001b[0m\n\u001b[0;32m    148\u001b[0m filtered_tb \u001b[38;5;241m=\u001b[39m \u001b[38;5;28;01mNone\u001b[39;00m\n\u001b[0;32m    149\u001b[0m \u001b[38;5;28;01mtry\u001b[39;00m:\n\u001b[1;32m--> 150\u001b[0m   \u001b[38;5;28;01mreturn\u001b[39;00m \u001b[43mfn\u001b[49m\u001b[43m(\u001b[49m\u001b[38;5;241;43m*\u001b[39;49m\u001b[43margs\u001b[49m\u001b[43m,\u001b[49m\u001b[43m \u001b[49m\u001b[38;5;241;43m*\u001b[39;49m\u001b[38;5;241;43m*\u001b[39;49m\u001b[43mkwargs\u001b[49m\u001b[43m)\u001b[49m\n\u001b[0;32m    151\u001b[0m \u001b[38;5;28;01mexcept\u001b[39;00m \u001b[38;5;167;01mException\u001b[39;00m \u001b[38;5;28;01mas\u001b[39;00m e:\n\u001b[0;32m    152\u001b[0m   filtered_tb \u001b[38;5;241m=\u001b[39m _process_traceback_frames(e\u001b[38;5;241m.\u001b[39m__traceback__)\n",
            "File \u001b[1;32mc:\\Users\\acer\\AppData\\Local\\Programs\\Python\\Python312\\Lib\\site-packages\\tensorflow\\python\\eager\\polymorphic_function\\polymorphic_function.py:833\u001b[0m, in \u001b[0;36mFunction.__call__\u001b[1;34m(self, *args, **kwds)\u001b[0m\n\u001b[0;32m    830\u001b[0m compiler \u001b[38;5;241m=\u001b[39m \u001b[38;5;124m\"\u001b[39m\u001b[38;5;124mxla\u001b[39m\u001b[38;5;124m\"\u001b[39m \u001b[38;5;28;01mif\u001b[39;00m \u001b[38;5;28mself\u001b[39m\u001b[38;5;241m.\u001b[39m_jit_compile \u001b[38;5;28;01melse\u001b[39;00m \u001b[38;5;124m\"\u001b[39m\u001b[38;5;124mnonXla\u001b[39m\u001b[38;5;124m\"\u001b[39m\n\u001b[0;32m    832\u001b[0m \u001b[38;5;28;01mwith\u001b[39;00m OptionalXlaContext(\u001b[38;5;28mself\u001b[39m\u001b[38;5;241m.\u001b[39m_jit_compile):\n\u001b[1;32m--> 833\u001b[0m   result \u001b[38;5;241m=\u001b[39m \u001b[38;5;28;43mself\u001b[39;49m\u001b[38;5;241;43m.\u001b[39;49m\u001b[43m_call\u001b[49m\u001b[43m(\u001b[49m\u001b[38;5;241;43m*\u001b[39;49m\u001b[43margs\u001b[49m\u001b[43m,\u001b[49m\u001b[43m \u001b[49m\u001b[38;5;241;43m*\u001b[39;49m\u001b[38;5;241;43m*\u001b[39;49m\u001b[43mkwds\u001b[49m\u001b[43m)\u001b[49m\n\u001b[0;32m    835\u001b[0m new_tracing_count \u001b[38;5;241m=\u001b[39m \u001b[38;5;28mself\u001b[39m\u001b[38;5;241m.\u001b[39mexperimental_get_tracing_count()\n\u001b[0;32m    836\u001b[0m without_tracing \u001b[38;5;241m=\u001b[39m (tracing_count \u001b[38;5;241m==\u001b[39m new_tracing_count)\n",
            "File \u001b[1;32mc:\\Users\\acer\\AppData\\Local\\Programs\\Python\\Python312\\Lib\\site-packages\\tensorflow\\python\\eager\\polymorphic_function\\polymorphic_function.py:878\u001b[0m, in \u001b[0;36mFunction._call\u001b[1;34m(self, *args, **kwds)\u001b[0m\n\u001b[0;32m    875\u001b[0m \u001b[38;5;28mself\u001b[39m\u001b[38;5;241m.\u001b[39m_lock\u001b[38;5;241m.\u001b[39mrelease()\n\u001b[0;32m    876\u001b[0m \u001b[38;5;66;03m# In this case we have not created variables on the first call. So we can\u001b[39;00m\n\u001b[0;32m    877\u001b[0m \u001b[38;5;66;03m# run the first trace but we should fail if variables are created.\u001b[39;00m\n\u001b[1;32m--> 878\u001b[0m results \u001b[38;5;241m=\u001b[39m \u001b[43mtracing_compilation\u001b[49m\u001b[38;5;241;43m.\u001b[39;49m\u001b[43mcall_function\u001b[49m\u001b[43m(\u001b[49m\n\u001b[0;32m    879\u001b[0m \u001b[43m    \u001b[49m\u001b[43margs\u001b[49m\u001b[43m,\u001b[49m\u001b[43m \u001b[49m\u001b[43mkwds\u001b[49m\u001b[43m,\u001b[49m\u001b[43m \u001b[49m\u001b[38;5;28;43mself\u001b[39;49m\u001b[38;5;241;43m.\u001b[39;49m\u001b[43m_variable_creation_config\u001b[49m\n\u001b[0;32m    880\u001b[0m \u001b[43m\u001b[49m\u001b[43m)\u001b[49m\n\u001b[0;32m    881\u001b[0m \u001b[38;5;28;01mif\u001b[39;00m \u001b[38;5;28mself\u001b[39m\u001b[38;5;241m.\u001b[39m_created_variables:\n\u001b[0;32m    882\u001b[0m   \u001b[38;5;28;01mraise\u001b[39;00m \u001b[38;5;167;01mValueError\u001b[39;00m(\u001b[38;5;124m\"\u001b[39m\u001b[38;5;124mCreating variables on a non-first call to a function\u001b[39m\u001b[38;5;124m\"\u001b[39m\n\u001b[0;32m    883\u001b[0m                    \u001b[38;5;124m\"\u001b[39m\u001b[38;5;124m decorated with tf.function.\u001b[39m\u001b[38;5;124m\"\u001b[39m)\n",
            "File \u001b[1;32mc:\\Users\\acer\\AppData\\Local\\Programs\\Python\\Python312\\Lib\\site-packages\\tensorflow\\python\\eager\\polymorphic_function\\tracing_compilation.py:139\u001b[0m, in \u001b[0;36mcall_function\u001b[1;34m(args, kwargs, tracing_options)\u001b[0m\n\u001b[0;32m    137\u001b[0m bound_args \u001b[38;5;241m=\u001b[39m function\u001b[38;5;241m.\u001b[39mfunction_type\u001b[38;5;241m.\u001b[39mbind(\u001b[38;5;241m*\u001b[39margs, \u001b[38;5;241m*\u001b[39m\u001b[38;5;241m*\u001b[39mkwargs)\n\u001b[0;32m    138\u001b[0m flat_inputs \u001b[38;5;241m=\u001b[39m function\u001b[38;5;241m.\u001b[39mfunction_type\u001b[38;5;241m.\u001b[39munpack_inputs(bound_args)\n\u001b[1;32m--> 139\u001b[0m \u001b[38;5;28;01mreturn\u001b[39;00m \u001b[43mfunction\u001b[49m\u001b[38;5;241;43m.\u001b[39;49m\u001b[43m_call_flat\u001b[49m\u001b[43m(\u001b[49m\u001b[43m  \u001b[49m\u001b[38;5;66;43;03m# pylint: disable=protected-access\u001b[39;49;00m\n\u001b[0;32m    140\u001b[0m \u001b[43m    \u001b[49m\u001b[43mflat_inputs\u001b[49m\u001b[43m,\u001b[49m\u001b[43m \u001b[49m\u001b[43mcaptured_inputs\u001b[49m\u001b[38;5;241;43m=\u001b[39;49m\u001b[43mfunction\u001b[49m\u001b[38;5;241;43m.\u001b[39;49m\u001b[43mcaptured_inputs\u001b[49m\n\u001b[0;32m    141\u001b[0m \u001b[43m\u001b[49m\u001b[43m)\u001b[49m\n",
            "File \u001b[1;32mc:\\Users\\acer\\AppData\\Local\\Programs\\Python\\Python312\\Lib\\site-packages\\tensorflow\\python\\eager\\polymorphic_function\\concrete_function.py:1322\u001b[0m, in \u001b[0;36mConcreteFunction._call_flat\u001b[1;34m(self, tensor_inputs, captured_inputs)\u001b[0m\n\u001b[0;32m   1318\u001b[0m possible_gradient_type \u001b[38;5;241m=\u001b[39m gradients_util\u001b[38;5;241m.\u001b[39mPossibleTapeGradientTypes(args)\n\u001b[0;32m   1319\u001b[0m \u001b[38;5;28;01mif\u001b[39;00m (possible_gradient_type \u001b[38;5;241m==\u001b[39m gradients_util\u001b[38;5;241m.\u001b[39mPOSSIBLE_GRADIENT_TYPES_NONE\n\u001b[0;32m   1320\u001b[0m     \u001b[38;5;129;01mand\u001b[39;00m executing_eagerly):\n\u001b[0;32m   1321\u001b[0m   \u001b[38;5;66;03m# No tape is watching; skip to running the function.\u001b[39;00m\n\u001b[1;32m-> 1322\u001b[0m   \u001b[38;5;28;01mreturn\u001b[39;00m \u001b[38;5;28;43mself\u001b[39;49m\u001b[38;5;241;43m.\u001b[39;49m\u001b[43m_inference_function\u001b[49m\u001b[38;5;241;43m.\u001b[39;49m\u001b[43mcall_preflattened\u001b[49m\u001b[43m(\u001b[49m\u001b[43margs\u001b[49m\u001b[43m)\u001b[49m\n\u001b[0;32m   1323\u001b[0m forward_backward \u001b[38;5;241m=\u001b[39m \u001b[38;5;28mself\u001b[39m\u001b[38;5;241m.\u001b[39m_select_forward_and_backward_functions(\n\u001b[0;32m   1324\u001b[0m     args,\n\u001b[0;32m   1325\u001b[0m     possible_gradient_type,\n\u001b[0;32m   1326\u001b[0m     executing_eagerly)\n\u001b[0;32m   1327\u001b[0m forward_function, args_with_tangents \u001b[38;5;241m=\u001b[39m forward_backward\u001b[38;5;241m.\u001b[39mforward()\n",
            "File \u001b[1;32mc:\\Users\\acer\\AppData\\Local\\Programs\\Python\\Python312\\Lib\\site-packages\\tensorflow\\python\\eager\\polymorphic_function\\atomic_function.py:216\u001b[0m, in \u001b[0;36mAtomicFunction.call_preflattened\u001b[1;34m(self, args)\u001b[0m\n\u001b[0;32m    214\u001b[0m \u001b[38;5;28;01mdef\u001b[39;00m \u001b[38;5;21mcall_preflattened\u001b[39m(\u001b[38;5;28mself\u001b[39m, args: Sequence[core\u001b[38;5;241m.\u001b[39mTensor]) \u001b[38;5;241m-\u001b[39m\u001b[38;5;241m>\u001b[39m Any:\n\u001b[0;32m    215\u001b[0m \u001b[38;5;250m  \u001b[39m\u001b[38;5;124;03m\"\"\"Calls with flattened tensor inputs and returns the structured output.\"\"\"\u001b[39;00m\n\u001b[1;32m--> 216\u001b[0m   flat_outputs \u001b[38;5;241m=\u001b[39m \u001b[38;5;28;43mself\u001b[39;49m\u001b[38;5;241;43m.\u001b[39;49m\u001b[43mcall_flat\u001b[49m\u001b[43m(\u001b[49m\u001b[38;5;241;43m*\u001b[39;49m\u001b[43margs\u001b[49m\u001b[43m)\u001b[49m\n\u001b[0;32m    217\u001b[0m   \u001b[38;5;28;01mreturn\u001b[39;00m \u001b[38;5;28mself\u001b[39m\u001b[38;5;241m.\u001b[39mfunction_type\u001b[38;5;241m.\u001b[39mpack_output(flat_outputs)\n",
            "File \u001b[1;32mc:\\Users\\acer\\AppData\\Local\\Programs\\Python\\Python312\\Lib\\site-packages\\tensorflow\\python\\eager\\polymorphic_function\\atomic_function.py:251\u001b[0m, in \u001b[0;36mAtomicFunction.call_flat\u001b[1;34m(self, *args)\u001b[0m\n\u001b[0;32m    249\u001b[0m \u001b[38;5;28;01mwith\u001b[39;00m record\u001b[38;5;241m.\u001b[39mstop_recording():\n\u001b[0;32m    250\u001b[0m   \u001b[38;5;28;01mif\u001b[39;00m \u001b[38;5;28mself\u001b[39m\u001b[38;5;241m.\u001b[39m_bound_context\u001b[38;5;241m.\u001b[39mexecuting_eagerly():\n\u001b[1;32m--> 251\u001b[0m     outputs \u001b[38;5;241m=\u001b[39m \u001b[38;5;28;43mself\u001b[39;49m\u001b[38;5;241;43m.\u001b[39;49m\u001b[43m_bound_context\u001b[49m\u001b[38;5;241;43m.\u001b[39;49m\u001b[43mcall_function\u001b[49m\u001b[43m(\u001b[49m\n\u001b[0;32m    252\u001b[0m \u001b[43m        \u001b[49m\u001b[38;5;28;43mself\u001b[39;49m\u001b[38;5;241;43m.\u001b[39;49m\u001b[43mname\u001b[49m\u001b[43m,\u001b[49m\n\u001b[0;32m    253\u001b[0m \u001b[43m        \u001b[49m\u001b[38;5;28;43mlist\u001b[39;49m\u001b[43m(\u001b[49m\u001b[43margs\u001b[49m\u001b[43m)\u001b[49m\u001b[43m,\u001b[49m\n\u001b[0;32m    254\u001b[0m \u001b[43m        \u001b[49m\u001b[38;5;28;43mlen\u001b[39;49m\u001b[43m(\u001b[49m\u001b[38;5;28;43mself\u001b[39;49m\u001b[38;5;241;43m.\u001b[39;49m\u001b[43mfunction_type\u001b[49m\u001b[38;5;241;43m.\u001b[39;49m\u001b[43mflat_outputs\u001b[49m\u001b[43m)\u001b[49m\u001b[43m,\u001b[49m\n\u001b[0;32m    255\u001b[0m \u001b[43m    \u001b[49m\u001b[43m)\u001b[49m\n\u001b[0;32m    256\u001b[0m   \u001b[38;5;28;01melse\u001b[39;00m:\n\u001b[0;32m    257\u001b[0m     outputs \u001b[38;5;241m=\u001b[39m make_call_op_in_graph(\n\u001b[0;32m    258\u001b[0m         \u001b[38;5;28mself\u001b[39m,\n\u001b[0;32m    259\u001b[0m         \u001b[38;5;28mlist\u001b[39m(args),\n\u001b[0;32m    260\u001b[0m         \u001b[38;5;28mself\u001b[39m\u001b[38;5;241m.\u001b[39m_bound_context\u001b[38;5;241m.\u001b[39mfunction_call_options\u001b[38;5;241m.\u001b[39mas_attrs(),\n\u001b[0;32m    261\u001b[0m     )\n",
            "File \u001b[1;32mc:\\Users\\acer\\AppData\\Local\\Programs\\Python\\Python312\\Lib\\site-packages\\tensorflow\\python\\eager\\context.py:1552\u001b[0m, in \u001b[0;36mContext.call_function\u001b[1;34m(self, name, tensor_inputs, num_outputs)\u001b[0m\n\u001b[0;32m   1550\u001b[0m cancellation_context \u001b[38;5;241m=\u001b[39m cancellation\u001b[38;5;241m.\u001b[39mcontext()\n\u001b[0;32m   1551\u001b[0m \u001b[38;5;28;01mif\u001b[39;00m cancellation_context \u001b[38;5;129;01mis\u001b[39;00m \u001b[38;5;28;01mNone\u001b[39;00m:\n\u001b[1;32m-> 1552\u001b[0m   outputs \u001b[38;5;241m=\u001b[39m \u001b[43mexecute\u001b[49m\u001b[38;5;241;43m.\u001b[39;49m\u001b[43mexecute\u001b[49m\u001b[43m(\u001b[49m\n\u001b[0;32m   1553\u001b[0m \u001b[43m      \u001b[49m\u001b[43mname\u001b[49m\u001b[38;5;241;43m.\u001b[39;49m\u001b[43mdecode\u001b[49m\u001b[43m(\u001b[49m\u001b[38;5;124;43m\"\u001b[39;49m\u001b[38;5;124;43mutf-8\u001b[39;49m\u001b[38;5;124;43m\"\u001b[39;49m\u001b[43m)\u001b[49m\u001b[43m,\u001b[49m\n\u001b[0;32m   1554\u001b[0m \u001b[43m      \u001b[49m\u001b[43mnum_outputs\u001b[49m\u001b[38;5;241;43m=\u001b[39;49m\u001b[43mnum_outputs\u001b[49m\u001b[43m,\u001b[49m\n\u001b[0;32m   1555\u001b[0m \u001b[43m      \u001b[49m\u001b[43minputs\u001b[49m\u001b[38;5;241;43m=\u001b[39;49m\u001b[43mtensor_inputs\u001b[49m\u001b[43m,\u001b[49m\n\u001b[0;32m   1556\u001b[0m \u001b[43m      \u001b[49m\u001b[43mattrs\u001b[49m\u001b[38;5;241;43m=\u001b[39;49m\u001b[43mattrs\u001b[49m\u001b[43m,\u001b[49m\n\u001b[0;32m   1557\u001b[0m \u001b[43m      \u001b[49m\u001b[43mctx\u001b[49m\u001b[38;5;241;43m=\u001b[39;49m\u001b[38;5;28;43mself\u001b[39;49m\u001b[43m,\u001b[49m\n\u001b[0;32m   1558\u001b[0m \u001b[43m  \u001b[49m\u001b[43m)\u001b[49m\n\u001b[0;32m   1559\u001b[0m \u001b[38;5;28;01melse\u001b[39;00m:\n\u001b[0;32m   1560\u001b[0m   outputs \u001b[38;5;241m=\u001b[39m execute\u001b[38;5;241m.\u001b[39mexecute_with_cancellation(\n\u001b[0;32m   1561\u001b[0m       name\u001b[38;5;241m.\u001b[39mdecode(\u001b[38;5;124m\"\u001b[39m\u001b[38;5;124mutf-8\u001b[39m\u001b[38;5;124m\"\u001b[39m),\n\u001b[0;32m   1562\u001b[0m       num_outputs\u001b[38;5;241m=\u001b[39mnum_outputs,\n\u001b[1;32m   (...)\u001b[0m\n\u001b[0;32m   1566\u001b[0m       cancellation_manager\u001b[38;5;241m=\u001b[39mcancellation_context,\n\u001b[0;32m   1567\u001b[0m   )\n",
            "File \u001b[1;32mc:\\Users\\acer\\AppData\\Local\\Programs\\Python\\Python312\\Lib\\site-packages\\tensorflow\\python\\eager\\execute.py:53\u001b[0m, in \u001b[0;36mquick_execute\u001b[1;34m(op_name, num_outputs, inputs, attrs, ctx, name)\u001b[0m\n\u001b[0;32m     51\u001b[0m \u001b[38;5;28;01mtry\u001b[39;00m:\n\u001b[0;32m     52\u001b[0m   ctx\u001b[38;5;241m.\u001b[39mensure_initialized()\n\u001b[1;32m---> 53\u001b[0m   tensors \u001b[38;5;241m=\u001b[39m \u001b[43mpywrap_tfe\u001b[49m\u001b[38;5;241;43m.\u001b[39;49m\u001b[43mTFE_Py_Execute\u001b[49m\u001b[43m(\u001b[49m\u001b[43mctx\u001b[49m\u001b[38;5;241;43m.\u001b[39;49m\u001b[43m_handle\u001b[49m\u001b[43m,\u001b[49m\u001b[43m \u001b[49m\u001b[43mdevice_name\u001b[49m\u001b[43m,\u001b[49m\u001b[43m \u001b[49m\u001b[43mop_name\u001b[49m\u001b[43m,\u001b[49m\n\u001b[0;32m     54\u001b[0m \u001b[43m                                      \u001b[49m\u001b[43minputs\u001b[49m\u001b[43m,\u001b[49m\u001b[43m \u001b[49m\u001b[43mattrs\u001b[49m\u001b[43m,\u001b[49m\u001b[43m \u001b[49m\u001b[43mnum_outputs\u001b[49m\u001b[43m)\u001b[49m\n\u001b[0;32m     55\u001b[0m \u001b[38;5;28;01mexcept\u001b[39;00m core\u001b[38;5;241m.\u001b[39m_NotOkStatusException \u001b[38;5;28;01mas\u001b[39;00m e:\n\u001b[0;32m     56\u001b[0m   \u001b[38;5;28;01mif\u001b[39;00m name \u001b[38;5;129;01mis\u001b[39;00m \u001b[38;5;129;01mnot\u001b[39;00m \u001b[38;5;28;01mNone\u001b[39;00m:\n",
            "\u001b[1;31mKeyboardInterrupt\u001b[0m: "
          ]
        }
      ],
      "source": [
        "history = model.fit([padded_train_sequences_en, padded_train_sequences_de],\n",
        "                    padded_train_sequences_de,\n",
        "          batch_size=32,\n",
        "          epochs=5,\n",
        "          validation_data=([padded_val_sequences_en, padded_val_sequences_de], padded_val_sequences_de)\n",
        "          )"
      ]
    },
    {
      "cell_type": "markdown",
      "metadata": {
        "id": "lmvCJC814viS"
      },
      "source": [
        "### I don't know why those accuracies happen but I have done a lot of workarounds to make the model run:\n",
        "1. First: decrease the data very much from 250K to 2K (HUGEEEE REDUCATION BUT FOR SAKE OF TIME)\n",
        "2. Second: decrease The length of sequence for the articles to make the model faster\n",
        "3. Third: decrease Model Params and Batch Size"
      ]
    },
    {
      "cell_type": "code",
      "execution_count": 85,
      "metadata": {
        "id": "pxVN6DRd4viT",
        "trusted": true
      },
      "outputs": [
        {
          "data": {
            "text/plain": [
              "<matplotlib.legend.Legend at 0x2275504f080>"
            ]
          },
          "execution_count": 85,
          "metadata": {},
          "output_type": "execute_result"
        },
        {
          "data": {
            "image/png": "[encoded data removed]",
            "text/plain": [
              "<Figure size 640x480 with 2 Axes>"
            ]
          },
          "metadata": {},
          "output_type": "display_data"
        }
      ],
      "source": [
        "import matplotlib.pyplot as plt\n",
        "plt.subplot(1, 2, 1)\n",
        "plt.plot(history.history['loss'], label='loss')\n",
        "plt.plot(history.history['val_loss'], label='val_loss')\n",
        "plt.ylim([0, max(plt.ylim())])\n",
        "plt.xlabel('Epoch #')\n",
        "plt.ylabel('Loss')\n",
        "plt.legend()\n",
        "\n",
        "plt.subplot(1, 2, 2)\n",
        "plt.plot(history.history['accuracy'], label='accuracy')\n",
        "plt.plot(history.history['val_accuracy'], label='val_accuracy')\n",
        "plt.ylim([0, 1])\n",
        "plt.xlabel('Epoch #')\n",
        "plt.ylabel('Accuracy')\n",
        "plt.legend()"
      ]
    },
    {
      "cell_type": "code",
      "execution_count": 86,
      "metadata": {
        "id": "aM4YuskY4viT",
        "trusted": true
      },
      "outputs": [
        {
          "data": {
            "text/html": [
              "<div>\n",
              "<style scoped>\n",
              "    .dataframe tbody tr th:only-of-type {\n",
              "        vertical-align: middle;\n",
              "    }\n",
              "\n",
              "    .dataframe tbody tr th {\n",
              "        vertical-align: top;\n",
              "    }\n",
              "\n",
              "    .dataframe thead th {\n",
              "        text-align: right;\n",
              "    }\n",
              "</style>\n",
              "<table border=\"1\" class=\"dataframe\">\n",
              "  <thead>\n",
              "    <tr style=\"text-align: right;\">\n",
              "      <th></th>\n",
              "      <th>article</th>\n",
              "      <th>highlights</th>\n",
              "    </tr>\n",
              "  </thead>\n",
              "  <tbody>\n",
              "    <tr>\n",
              "      <th>0</th>\n",
              "      <td>Ever noticed how plane seats appear to be gett...</td>\n",
              "      <td>Experts question if  packed out planes are put...</td>\n",
              "    </tr>\n",
              "    <tr>\n",
              "      <th>1</th>\n",
              "      <td>A drunk teenage boy had to be rescued by secur...</td>\n",
              "      <td>Drunk teenage boy climbed into lion enclosure ...</td>\n",
              "    </tr>\n",
              "    <tr>\n",
              "      <th>2</th>\n",
              "      <td>Dougie Freedman is on the verge of agreeing a ...</td>\n",
              "      <td>Nottingham Forest are close to extending Dougi...</td>\n",
              "    </tr>\n",
              "    <tr>\n",
              "      <th>3</th>\n",
              "      <td>Liverpool target Neto is also wanted by PSG an...</td>\n",
              "      <td>Fiorentina goalkeeper Neto has been linked wit...</td>\n",
              "    </tr>\n",
              "    <tr>\n",
              "      <th>4</th>\n",
              "      <td>Bruce Jenner will break his silence in a two-h...</td>\n",
              "      <td>Tell-all interview with the reality TV star, 6...</td>\n",
              "    </tr>\n",
              "    <tr>\n",
              "      <th>...</th>\n",
              "      <td>...</td>\n",
              "      <td>...</td>\n",
              "    </tr>\n",
              "    <tr>\n",
              "      <th>745</th>\n",
              "      <td>Students, parents and staff at a Melbourne hig...</td>\n",
              "      <td>A bubbler at a Melbourne high school has been ...</td>\n",
              "    </tr>\n",
              "    <tr>\n",
              "      <th>746</th>\n",
              "      <td>Steve Bruce is adamant he can keep Hull City i...</td>\n",
              "      <td>Steve Bruce adamant that Hull will avoid releg...</td>\n",
              "    </tr>\n",
              "    <tr>\n",
              "      <th>747</th>\n",
              "      <td>A 69-year-old mentally impaired man from Conne...</td>\n",
              "      <td>Richard Lapointe, a former dishwasher, confess...</td>\n",
              "    </tr>\n",
              "    <tr>\n",
              "      <th>748</th>\n",
              "      <td>Cate McGregor was surprised when she was uncon...</td>\n",
              "      <td>Cate McGregor is a Group Captain in the Royal ...</td>\n",
              "    </tr>\n",
              "    <tr>\n",
              "      <th>749</th>\n",
              "      <td>(CNN)Twenty years ago, on April 19, 1995, Timo...</td>\n",
              "      <td>Twenty years ago, on April 19, 1995, Timothy M...</td>\n",
              "    </tr>\n",
              "  </tbody>\n",
              "</table>\n",
              "<p>750 rows × 2 columns</p>\n",
              "</div>"
            ],
            "text/plain": [
              "                                               article  \\\n",
              "0    Ever noticed how plane seats appear to be gett...   \n",
              "1    A drunk teenage boy had to be rescued by secur...   \n",
              "2    Dougie Freedman is on the verge of agreeing a ...   \n",
              "3    Liverpool target Neto is also wanted by PSG an...   \n",
              "4    Bruce Jenner will break his silence in a two-h...   \n",
              "..                                                 ...   \n",
              "745  Students, parents and staff at a Melbourne hig...   \n",
              "746  Steve Bruce is adamant he can keep Hull City i...   \n",
              "747  A 69-year-old mentally impaired man from Conne...   \n",
              "748  Cate McGregor was surprised when she was uncon...   \n",
              "749  (CNN)Twenty years ago, on April 19, 1995, Timo...   \n",
              "\n",
              "                                            highlights  \n",
              "0    Experts question if  packed out planes are put...  \n",
              "1    Drunk teenage boy climbed into lion enclosure ...  \n",
              "2    Nottingham Forest are close to extending Dougi...  \n",
              "3    Fiorentina goalkeeper Neto has been linked wit...  \n",
              "4    Tell-all interview with the reality TV star, 6...  \n",
              "..                                                 ...  \n",
              "745  A bubbler at a Melbourne high school has been ...  \n",
              "746  Steve Bruce adamant that Hull will avoid releg...  \n",
              "747  Richard Lapointe, a former dishwasher, confess...  \n",
              "748  Cate McGregor is a Group Captain in the Royal ...  \n",
              "749  Twenty years ago, on April 19, 1995, Timothy M...  \n",
              "\n",
              "[750 rows x 2 columns]"
            ]
          },
          "execution_count": 86,
          "metadata": {},
          "output_type": "execute_result"
        }
      ],
      "source": [
        "new_test_df = test_df[:750]\n",
        "new_test_df"
      ]
    },
    {
      "cell_type": "code",
      "execution_count": 87,
      "metadata": {
        "id": "1aLNVzTv4viT",
        "trusted": true
      },
      "outputs": [
        {
          "name": "stderr",
          "output_type": "stream",
          "text": [
            "C:\\Users\\acer\\AppData\\Local\\Temp\\ipykernel_8436\\2371140969.py:1: SettingWithCopyWarning: \n",
            "A value is trying to be set on a copy of a slice from a DataFrame.\n",
            "Try using .loc[row_indexer,col_indexer] = value instead\n",
            "\n",
            "See the caveats in the documentation: https://pandas.pydata.org/pandas-docs/stable/user_guide/indexing.html#returning-a-view-versus-a-copy\n",
            "  new_test_df[\"clean_article\"] = new_test_df['article'].apply(clean_text)\n",
            "C:\\Users\\acer\\AppData\\Local\\Temp\\ipykernel_8436\\2371140969.py:2: SettingWithCopyWarning: \n",
            "A value is trying to be set on a copy of a slice from a DataFrame.\n",
            "Try using .loc[row_indexer,col_indexer] = value instead\n",
            "\n",
            "See the caveats in the documentation: https://pandas.pydata.org/pandas-docs/stable/user_guide/indexing.html#returning-a-view-versus-a-copy\n",
            "  new_test_df[\"clean_highlights\"] = new_test_df['highlights'].apply(clean_text)\n"
          ]
        }
      ],
      "source": [
        "new_test_df[\"clean_article\"] = new_test_df['article'].apply(clean_text)\n",
        "new_test_df[\"clean_highlights\"] = new_test_df['highlights'].apply(clean_text)"
      ]
    },
    {
      "cell_type": "code",
      "execution_count": 88,
      "metadata": {
        "id": "M8y8-R_l4viT",
        "trusted": true
      },
      "outputs": [
        {
          "data": {
            "text/html": [
              "<div>\n",
              "<style scoped>\n",
              "    .dataframe tbody tr th:only-of-type {\n",
              "        vertical-align: middle;\n",
              "    }\n",
              "\n",
              "    .dataframe tbody tr th {\n",
              "        vertical-align: top;\n",
              "    }\n",
              "\n",
              "    .dataframe thead th {\n",
              "        text-align: right;\n",
              "    }\n",
              "</style>\n",
              "<table border=\"1\" class=\"dataframe\">\n",
              "  <thead>\n",
              "    <tr style=\"text-align: right;\">\n",
              "      <th></th>\n",
              "      <th>article</th>\n",
              "      <th>highlights</th>\n",
              "      <th>clean_article</th>\n",
              "      <th>clean_highlights</th>\n",
              "    </tr>\n",
              "  </thead>\n",
              "  <tbody>\n",
              "    <tr>\n",
              "      <th>0</th>\n",
              "      <td>Ever noticed how plane seats appear to be gett...</td>\n",
              "      <td>Experts question if  packed out planes are put...</td>\n",
              "      <td>noticed plane seats appear getting smaller sma...</td>\n",
              "      <td>experts question   packed planes putting passe...</td>\n",
              "    </tr>\n",
              "    <tr>\n",
              "      <th>1</th>\n",
              "      <td>A drunk teenage boy had to be rescued by secur...</td>\n",
              "      <td>Drunk teenage boy climbed into lion enclosure ...</td>\n",
              "      <td>drunk teenage boy rescued security jumping lio...</td>\n",
              "      <td>drunk teenage boy climbed lion enclosure zoo w...</td>\n",
              "    </tr>\n",
              "    <tr>\n",
              "      <th>2</th>\n",
              "      <td>Dougie Freedman is on the verge of agreeing a ...</td>\n",
              "      <td>Nottingham Forest are close to extending Dougi...</td>\n",
              "      <td>dougie freedman verge agreeing new year deal r...</td>\n",
              "      <td>nottingham forest close extending dougie freed...</td>\n",
              "    </tr>\n",
              "    <tr>\n",
              "      <th>3</th>\n",
              "      <td>Liverpool target Neto is also wanted by PSG an...</td>\n",
              "      <td>Fiorentina goalkeeper Neto has been linked wit...</td>\n",
              "      <td>liverpool target neto wanted psg clubs spain b...</td>\n",
              "      <td>fiorentina goalkeeper neto linked liverpool ar...</td>\n",
              "    </tr>\n",
              "    <tr>\n",
              "      <th>4</th>\n",
              "      <td>Bruce Jenner will break his silence in a two-h...</td>\n",
              "      <td>Tell-all interview with the reality TV star, 6...</td>\n",
              "      <td>bruce jenner break silence hour interview dian...</td>\n",
              "      <td>tell interview reality tv star 69 air friday a...</td>\n",
              "    </tr>\n",
              "    <tr>\n",
              "      <th>...</th>\n",
              "      <td>...</td>\n",
              "      <td>...</td>\n",
              "      <td>...</td>\n",
              "      <td>...</td>\n",
              "    </tr>\n",
              "    <tr>\n",
              "      <th>745</th>\n",
              "      <td>Students, parents and staff at a Melbourne hig...</td>\n",
              "      <td>A bubbler at a Melbourne high school has been ...</td>\n",
              "      <td>students parents staff melbourne high school h...</td>\n",
              "      <td>bubbler melbourne high school dispensing recyc...</td>\n",
              "    </tr>\n",
              "    <tr>\n",
              "      <th>746</th>\n",
              "      <td>Steve Bruce is adamant he can keep Hull City i...</td>\n",
              "      <td>Steve Bruce adamant that Hull will avoid releg...</td>\n",
              "      <td>steve bruce adamant hull city barclays premier...</td>\n",
              "      <td>steve bruce adamant hull avoid relegation prem...</td>\n",
              "    </tr>\n",
              "    <tr>\n",
              "      <th>747</th>\n",
              "      <td>A 69-year-old mentally impaired man from Conne...</td>\n",
              "      <td>Richard Lapointe, a former dishwasher, confess...</td>\n",
              "      <td>69 year old mentally impaired man connecticut ...</td>\n",
              "      <td>richard lapointe dishwasher confessed raping s...</td>\n",
              "    </tr>\n",
              "    <tr>\n",
              "      <th>748</th>\n",
              "      <td>Cate McGregor was surprised when she was uncon...</td>\n",
              "      <td>Cate McGregor is a Group Captain in the Royal ...</td>\n",
              "      <td>cate mcgregor surprised unconditionally backed...</td>\n",
              "      <td>cate mcgregor group captain royal australian a...</td>\n",
              "    </tr>\n",
              "    <tr>\n",
              "      <th>749</th>\n",
              "      <td>(CNN)Twenty years ago, on April 19, 1995, Timo...</td>\n",
              "      <td>Twenty years ago, on April 19, 1995, Timothy M...</td>\n",
              "      <td>cnn)twenty years ago april 19 1995 timothy mcv...</td>\n",
              "      <td>years ago april 19 1995 timothy mcveigh set ma...</td>\n",
              "    </tr>\n",
              "  </tbody>\n",
              "</table>\n",
              "<p>750 rows × 4 columns</p>\n",
              "</div>"
            ],
            "text/plain": [
              "                                               article  \\\n",
              "0    Ever noticed how plane seats appear to be gett...   \n",
              "1    A drunk teenage boy had to be rescued by secur...   \n",
              "2    Dougie Freedman is on the verge of agreeing a ...   \n",
              "3    Liverpool target Neto is also wanted by PSG an...   \n",
              "4    Bruce Jenner will break his silence in a two-h...   \n",
              "..                                                 ...   \n",
              "745  Students, parents and staff at a Melbourne hig...   \n",
              "746  Steve Bruce is adamant he can keep Hull City i...   \n",
              "747  A 69-year-old mentally impaired man from Conne...   \n",
              "748  Cate McGregor was surprised when she was uncon...   \n",
              "749  (CNN)Twenty years ago, on April 19, 1995, Timo...   \n",
              "\n",
              "                                            highlights  \\\n",
              "0    Experts question if  packed out planes are put...   \n",
              "1    Drunk teenage boy climbed into lion enclosure ...   \n",
              "2    Nottingham Forest are close to extending Dougi...   \n",
              "3    Fiorentina goalkeeper Neto has been linked wit...   \n",
              "4    Tell-all interview with the reality TV star, 6...   \n",
              "..                                                 ...   \n",
              "745  A bubbler at a Melbourne high school has been ...   \n",
              "746  Steve Bruce adamant that Hull will avoid releg...   \n",
              "747  Richard Lapointe, a former dishwasher, confess...   \n",
              "748  Cate McGregor is a Group Captain in the Royal ...   \n",
              "749  Twenty years ago, on April 19, 1995, Timothy M...   \n",
              "\n",
              "                                         clean_article  \\\n",
              "0    noticed plane seats appear getting smaller sma...   \n",
              "1    drunk teenage boy rescued security jumping lio...   \n",
              "2    dougie freedman verge agreeing new year deal r...   \n",
              "3    liverpool target neto wanted psg clubs spain b...   \n",
              "4    bruce jenner break silence hour interview dian...   \n",
              "..                                                 ...   \n",
              "745  students parents staff melbourne high school h...   \n",
              "746  steve bruce adamant hull city barclays premier...   \n",
              "747  69 year old mentally impaired man connecticut ...   \n",
              "748  cate mcgregor surprised unconditionally backed...   \n",
              "749  cnn)twenty years ago april 19 1995 timothy mcv...   \n",
              "\n",
              "                                      clean_highlights  \n",
              "0    experts question   packed planes putting passe...  \n",
              "1    drunk teenage boy climbed lion enclosure zoo w...  \n",
              "2    nottingham forest close extending dougie freed...  \n",
              "3    fiorentina goalkeeper neto linked liverpool ar...  \n",
              "4    tell interview reality tv star 69 air friday a...  \n",
              "..                                                 ...  \n",
              "745  bubbler melbourne high school dispensing recyc...  \n",
              "746  steve bruce adamant hull avoid relegation prem...  \n",
              "747  richard lapointe dishwasher confessed raping s...  \n",
              "748  cate mcgregor group captain royal australian a...  \n",
              "749  years ago april 19 1995 timothy mcveigh set ma...  \n",
              "\n",
              "[750 rows x 4 columns]"
            ]
          },
          "execution_count": 88,
          "metadata": {},
          "output_type": "execute_result"
        }
      ],
      "source": [
        "new_test_df"
      ]
    },
    {
      "cell_type": "code",
      "execution_count": 89,
      "metadata": {
        "id": "v7_wwAlW4viT",
        "trusted": true
      },
      "outputs": [],
      "source": [
        "X_test= new_test_df['clean_article'].values\n",
        "y_test = new_test_df['clean_highlights'].values"
      ]
    },
    {
      "cell_type": "code",
      "execution_count": 90,
      "metadata": {
        "id": "EiBmxgPh4viU",
        "trusted": true
      },
      "outputs": [
        {
          "name": "stdout",
          "output_type": "stream",
          "text": [
            "(2000,)\n"
          ]
        }
      ],
      "source": [
        "atricle_tokenizer = Tokenizer(num_words=2000, oov_token=\"<unk>\")\n",
        "atricle_tokenizer.fit_on_texts(X_test)\n",
        "input_sequences = atricle_tokenizer.texts_to_sequences(X_test)\n",
        "# Pad the sequences\n",
        "max_vocab_size_en = 2000\n",
        "X_padded_test = pad_sequences(input_sequences, maxlen=max_vocab_size_en)\n",
        "print(X_padded_test[0].shape)"
      ]
    },
    {
      "cell_type": "code",
      "execution_count": 91,
      "metadata": {
        "id": "cFZ8fI8x4viU",
        "trusted": true
      },
      "outputs": [
        {
          "name": "stdout",
          "output_type": "stream",
          "text": [
            "(1154,)\n"
          ]
        }
      ],
      "source": [
        "highlights_tokenizer = Tokenizer(num_words=2000, oov_token=\"<unk>\")\n",
        "highlights_tokenizer.fit_on_texts(y_test)\n",
        "output_sequences = highlights_tokenizer.texts_to_sequences(y_test)\n",
        "# Pad the sequences\n",
        "max_vocab_size = 2000\n",
        "y_padded_test = pad_sequences(output_sequences, maxlen=max_summary_len)\n",
        "print(y_padded_test[0].shape)"
      ]
    },
    {
      "cell_type": "code",
      "execution_count": 92,
      "metadata": {
        "id": "Tcg8F48N4viU",
        "trusted": true
      },
      "outputs": [
        {
          "name": "stderr",
          "output_type": "stream",
          "text": [
            "c:\\Users\\acer\\AppData\\Local\\Programs\\Python\\Python312\\Lib\\site-packages\\numpy\\_core\\_dtype.py:106: FutureWarning: In the future `np.bool` will be defined as the corresponding NumPy scalar.\n"
          ]
        },
        {
          "name": "stdout",
          "output_type": "stream",
          "text": [
            "\u001b[1m24/24\u001b[0m \u001b[32m━━━━━━━━━━━━━━━━━━━━\u001b[0m\u001b[37m\u001b[0m \u001b[1m44s\u001b[0m 2s/step - accuracy: 0.9825 - loss: 0.1390\n",
            "Test Loss: [0.13870994746685028, 0.9824216365814209]\n"
          ]
        }
      ],
      "source": [
        "# Evaluate on test data if available\n",
        "test_loss = model.evaluate([X_padded_test, y_padded_test], y_padded_test)\n",
        "\n",
        "print(f\"Test Loss: {test_loss}\")"
      ]
    }
  ],
  "metadata": {
    "colab": {
      "name": "notebookceb87c3173",
      "provenance": []
    },
    "kaggle": {
      "accelerator": "nvidiaTeslaT4",
      "dataSources": [
        {
          "datasetId": 1654566,
          "sourceId": 2734496,
          "sourceType": "datasetVersion"
        }
      ],
      "dockerImageVersionId": 30761,
      "isGpuEnabled": true,
      "isInternetEnabled": false,
      "language": "python",
      "sourceType": "notebook"
    },
    "kernelspec": {
      "display_name": "Python 3",
      "language": "python",
      "name": "python3"
    },
    "language_info": {
      "codemirror_mode": {
        "name": "ipython",
        "version": 3
      },
      "file_extension": ".py",
      "mimetype": "text/x-python",
      "name": "python",
      "nbconvert_exporter": "python",
      "pygments_lexer": "ipython3",
      "version": "3.12.2"
    }
  },
  "nbformat": 4,
  "nbformat_minor": 0
}
